{
 "cells": [
  {
   "cell_type": "code",
   "execution_count": 1,
   "id": "26089d62-bcb5-4b32-b76a-eca5380fe4ea",
   "metadata": {},
   "outputs": [],
   "source": [
    "import tensorflow as tf"
   ]
  },
  {
   "cell_type": "code",
   "execution_count": 2,
   "id": "0f22973f-31d0-4526-a177-33da1da56ff8",
   "metadata": {},
   "outputs": [],
   "source": [
    "import pathlib\n",
    "import os\n",
    "import matplotlib.pyplot as plt\n",
    "import pandas as pd\n",
    "import numpy as np\n",
    "import matplotlib.pyplot as plt\n",
    "\n",
    "np.set_printoptions(precision=4)"
   ]
  },
  {
   "cell_type": "code",
   "execution_count": 3,
   "id": "9bac0d0d-e77b-4e63-bd70-bbb44b711351",
   "metadata": {},
   "outputs": [],
   "source": [
    "from sklearn.model_selection import train_test_split #veri kümesini böler\n",
    "from tensorflow.keras.models import Sequential #yapay sinir ağı modeli\n",
    "#giriş katmanından başlayarak sıralı olarak birbirini takip eden katmanlar eklenir ve çıktı katmanına kadar devam eder\n",
    "\n",
    "from tensorflow.keras.layers import Conv2D #2 boyutlu veriler üzerinde evrişim işlemi gerçekleştirir\n",
    "from tensorflow.keras.layers import MaxPooling2D #önemli özellikleri korumak için kullanılır\n",
    "from tensorflow.keras.layers import Flatten #tek boyutlu veriye dönüştürür\n",
    "from tensorflow.keras.layers import Dense #full connected bağlantıları temsil edilir\n",
    "\n",
    "#çıktı aktivasyon fonksiyonumuz. (sigmoid,softmax vb.)"
   ]
  },
  {
   "cell_type": "code",
   "execution_count": 4,
   "id": "381ee9f3-84c8-438d-98e9-7de5e6b7f9f5",
   "metadata": {},
   "outputs": [],
   "source": [
    "import tensorflow.keras as keras\n",
    "from tensorflow.keras.datasets import fashion_mnist #veri kümesi"
   ]
  },
  {
   "cell_type": "code",
   "execution_count": 5,
   "id": "8c8a289f-92b1-448e-989c-a5a6bfccae43",
   "metadata": {
    "scrolled": true
   },
   "outputs": [
    {
     "data": {
      "text/plain": [
       "((array([[[0, 0, 0, ..., 0, 0, 0],\n",
       "          [0, 0, 0, ..., 0, 0, 0],\n",
       "          [0, 0, 0, ..., 0, 0, 0],\n",
       "          ...,\n",
       "          [0, 0, 0, ..., 0, 0, 0],\n",
       "          [0, 0, 0, ..., 0, 0, 0],\n",
       "          [0, 0, 0, ..., 0, 0, 0]],\n",
       "  \n",
       "         [[0, 0, 0, ..., 0, 0, 0],\n",
       "          [0, 0, 0, ..., 0, 0, 0],\n",
       "          [0, 0, 0, ..., 0, 0, 0],\n",
       "          ...,\n",
       "          [0, 0, 0, ..., 0, 0, 0],\n",
       "          [0, 0, 0, ..., 0, 0, 0],\n",
       "          [0, 0, 0, ..., 0, 0, 0]],\n",
       "  \n",
       "         [[0, 0, 0, ..., 0, 0, 0],\n",
       "          [0, 0, 0, ..., 0, 0, 0],\n",
       "          [0, 0, 0, ..., 0, 0, 0],\n",
       "          ...,\n",
       "          [0, 0, 0, ..., 0, 0, 0],\n",
       "          [0, 0, 0, ..., 0, 0, 0],\n",
       "          [0, 0, 0, ..., 0, 0, 0]],\n",
       "  \n",
       "         ...,\n",
       "  \n",
       "         [[0, 0, 0, ..., 0, 0, 0],\n",
       "          [0, 0, 0, ..., 0, 0, 0],\n",
       "          [0, 0, 0, ..., 0, 0, 0],\n",
       "          ...,\n",
       "          [0, 0, 0, ..., 0, 0, 0],\n",
       "          [0, 0, 0, ..., 0, 0, 0],\n",
       "          [0, 0, 0, ..., 0, 0, 0]],\n",
       "  \n",
       "         [[0, 0, 0, ..., 0, 0, 0],\n",
       "          [0, 0, 0, ..., 0, 0, 0],\n",
       "          [0, 0, 0, ..., 0, 0, 0],\n",
       "          ...,\n",
       "          [0, 0, 0, ..., 0, 0, 0],\n",
       "          [0, 0, 0, ..., 0, 0, 0],\n",
       "          [0, 0, 0, ..., 0, 0, 0]],\n",
       "  \n",
       "         [[0, 0, 0, ..., 0, 0, 0],\n",
       "          [0, 0, 0, ..., 0, 0, 0],\n",
       "          [0, 0, 0, ..., 0, 0, 0],\n",
       "          ...,\n",
       "          [0, 0, 0, ..., 0, 0, 0],\n",
       "          [0, 0, 0, ..., 0, 0, 0],\n",
       "          [0, 0, 0, ..., 0, 0, 0]]], dtype=uint8),\n",
       "  array([9, 0, 0, ..., 3, 0, 5], dtype=uint8)),\n",
       " (array([[[0, 0, 0, ..., 0, 0, 0],\n",
       "          [0, 0, 0, ..., 0, 0, 0],\n",
       "          [0, 0, 0, ..., 0, 0, 0],\n",
       "          ...,\n",
       "          [0, 0, 0, ..., 0, 0, 0],\n",
       "          [0, 0, 0, ..., 0, 0, 0],\n",
       "          [0, 0, 0, ..., 0, 0, 0]],\n",
       "  \n",
       "         [[0, 0, 0, ..., 0, 0, 0],\n",
       "          [0, 0, 0, ..., 0, 0, 0],\n",
       "          [0, 0, 0, ..., 0, 0, 0],\n",
       "          ...,\n",
       "          [0, 0, 0, ..., 0, 0, 0],\n",
       "          [0, 0, 0, ..., 0, 0, 0],\n",
       "          [0, 0, 0, ..., 0, 0, 0]],\n",
       "  \n",
       "         [[0, 0, 0, ..., 0, 0, 0],\n",
       "          [0, 0, 0, ..., 0, 0, 0],\n",
       "          [0, 0, 0, ..., 0, 0, 0],\n",
       "          ...,\n",
       "          [0, 0, 0, ..., 0, 0, 0],\n",
       "          [0, 0, 0, ..., 0, 0, 0],\n",
       "          [0, 0, 0, ..., 0, 0, 0]],\n",
       "  \n",
       "         ...,\n",
       "  \n",
       "         [[0, 0, 0, ..., 0, 0, 0],\n",
       "          [0, 0, 0, ..., 0, 0, 0],\n",
       "          [0, 0, 0, ..., 0, 0, 0],\n",
       "          ...,\n",
       "          [0, 0, 0, ..., 0, 0, 0],\n",
       "          [0, 0, 0, ..., 0, 0, 0],\n",
       "          [0, 0, 0, ..., 0, 0, 0]],\n",
       "  \n",
       "         [[0, 0, 0, ..., 0, 0, 0],\n",
       "          [0, 0, 0, ..., 0, 0, 0],\n",
       "          [0, 0, 0, ..., 0, 0, 0],\n",
       "          ...,\n",
       "          [0, 0, 0, ..., 0, 0, 0],\n",
       "          [0, 0, 0, ..., 0, 0, 0],\n",
       "          [0, 0, 0, ..., 0, 0, 0]],\n",
       "  \n",
       "         [[0, 0, 0, ..., 0, 0, 0],\n",
       "          [0, 0, 0, ..., 0, 0, 0],\n",
       "          [0, 0, 0, ..., 0, 0, 0],\n",
       "          ...,\n",
       "          [0, 0, 0, ..., 0, 0, 0],\n",
       "          [0, 0, 0, ..., 0, 0, 0],\n",
       "          [0, 0, 0, ..., 0, 0, 0]]], dtype=uint8),\n",
       "  array([9, 2, 1, ..., 8, 1, 5], dtype=uint8)))"
      ]
     },
     "execution_count": 5,
     "metadata": {},
     "output_type": "execute_result"
    }
   ],
   "source": [
    "tf.keras.datasets.fashion_mnist.load_data()"
   ]
  },
  {
   "cell_type": "code",
   "execution_count": 6,
   "id": "1f096d17-36b7-444b-889e-1e634ded18e4",
   "metadata": {},
   "outputs": [],
   "source": [
    "(x_train,y_train),(x_test,y_test) = fashion_mnist.load_data()"
   ]
  },
  {
   "cell_type": "code",
   "execution_count": 7,
   "id": "5f730995-b3a8-4e1b-bfc2-468891ba6210",
   "metadata": {},
   "outputs": [
    {
     "data": {
      "text/plain": [
       "60000"
      ]
     },
     "execution_count": 7,
     "metadata": {},
     "output_type": "execute_result"
    }
   ],
   "source": [
    "len(x_train)"
   ]
  },
  {
   "cell_type": "code",
   "execution_count": 8,
   "id": "a9b9f644-8bbb-4ac7-89a8-0f05c24f5599",
   "metadata": {},
   "outputs": [
    {
     "data": {
      "text/plain": [
       "(60000, 28, 28)"
      ]
     },
     "execution_count": 8,
     "metadata": {},
     "output_type": "execute_result"
    }
   ],
   "source": [
    "x_train.shape"
   ]
  },
  {
   "cell_type": "code",
   "execution_count": 9,
   "id": "c3dfc8ec-b947-4b37-98f2-ae8fd952f237",
   "metadata": {},
   "outputs": [
    {
     "data": {
      "text/plain": [
       "array([[  0,   0,   0,   0,   0,   0,   0,   0,   0,   0,   0,   0,   0,\n",
       "          0,   0,   0,   0,   0,   0,   0,   0,   0,   0,   0,   0,   0,\n",
       "          0,   0],\n",
       "       [  0,   0,   0,   0,   0,   0,   0,   0,   0,   0,   0,   0,   0,\n",
       "          0,   0,   0,   0,   0,   0,   0,   0,   0,   0,   0,   0,   0,\n",
       "          0,   0],\n",
       "       [  0,   0,   0,   0,   0,   0,   0,   0,   0,   0,   0,   0,   0,\n",
       "          0,   0,   0,   0,   0,   0,   0,   0,   0,   0,   0,   0,   0,\n",
       "          0,   0],\n",
       "       [  0,   0,   0,   0,   0,   0,   0,   0,   0,   0,   0,   0,   1,\n",
       "          0,   0,  13,  73,   0,   0,   1,   4,   0,   0,   0,   0,   1,\n",
       "          1,   0],\n",
       "       [  0,   0,   0,   0,   0,   0,   0,   0,   0,   0,   0,   0,   3,\n",
       "          0,  36, 136, 127,  62,  54,   0,   0,   0,   1,   3,   4,   0,\n",
       "          0,   3],\n",
       "       [  0,   0,   0,   0,   0,   0,   0,   0,   0,   0,   0,   0,   6,\n",
       "          0, 102, 204, 176, 134, 144, 123,  23,   0,   0,   0,   0,  12,\n",
       "         10,   0],\n",
       "       [  0,   0,   0,   0,   0,   0,   0,   0,   0,   0,   0,   0,   0,\n",
       "          0, 155, 236, 207, 178, 107, 156, 161, 109,  64,  23,  77, 130,\n",
       "         72,  15],\n",
       "       [  0,   0,   0,   0,   0,   0,   0,   0,   0,   0,   0,   1,   0,\n",
       "         69, 207, 223, 218, 216, 216, 163, 127, 121, 122, 146, 141,  88,\n",
       "        172,  66],\n",
       "       [  0,   0,   0,   0,   0,   0,   0,   0,   0,   1,   1,   1,   0,\n",
       "        200, 232, 232, 233, 229, 223, 223, 215, 213, 164, 127, 123, 196,\n",
       "        229,   0],\n",
       "       [  0,   0,   0,   0,   0,   0,   0,   0,   0,   0,   0,   0,   0,\n",
       "        183, 225, 216, 223, 228, 235, 227, 224, 222, 224, 221, 223, 245,\n",
       "        173,   0],\n",
       "       [  0,   0,   0,   0,   0,   0,   0,   0,   0,   0,   0,   0,   0,\n",
       "        193, 228, 218, 213, 198, 180, 212, 210, 211, 213, 223, 220, 243,\n",
       "        202,   0],\n",
       "       [  0,   0,   0,   0,   0,   0,   0,   0,   0,   1,   3,   0,  12,\n",
       "        219, 220, 212, 218, 192, 169, 227, 208, 218, 224, 212, 226, 197,\n",
       "        209,  52],\n",
       "       [  0,   0,   0,   0,   0,   0,   0,   0,   0,   0,   6,   0,  99,\n",
       "        244, 222, 220, 218, 203, 198, 221, 215, 213, 222, 220, 245, 119,\n",
       "        167,  56],\n",
       "       [  0,   0,   0,   0,   0,   0,   0,   0,   0,   4,   0,   0,  55,\n",
       "        236, 228, 230, 228, 240, 232, 213, 218, 223, 234, 217, 217, 209,\n",
       "         92,   0],\n",
       "       [  0,   0,   1,   4,   6,   7,   2,   0,   0,   0,   0,   0, 237,\n",
       "        226, 217, 223, 222, 219, 222, 221, 216, 223, 229, 215, 218, 255,\n",
       "         77,   0],\n",
       "       [  0,   3,   0,   0,   0,   0,   0,   0,   0,  62, 145, 204, 228,\n",
       "        207, 213, 221, 218, 208, 211, 218, 224, 223, 219, 215, 224, 244,\n",
       "        159,   0],\n",
       "       [  0,   0,   0,   0,  18,  44,  82, 107, 189, 228, 220, 222, 217,\n",
       "        226, 200, 205, 211, 230, 224, 234, 176, 188, 250, 248, 233, 238,\n",
       "        215,   0],\n",
       "       [  0,  57, 187, 208, 224, 221, 224, 208, 204, 214, 208, 209, 200,\n",
       "        159, 245, 193, 206, 223, 255, 255, 221, 234, 221, 211, 220, 232,\n",
       "        246,   0],\n",
       "       [  3, 202, 228, 224, 221, 211, 211, 214, 205, 205, 205, 220, 240,\n",
       "         80, 150, 255, 229, 221, 188, 154, 191, 210, 204, 209, 222, 228,\n",
       "        225,   0],\n",
       "       [ 98, 233, 198, 210, 222, 229, 229, 234, 249, 220, 194, 215, 217,\n",
       "        241,  65,  73, 106, 117, 168, 219, 221, 215, 217, 223, 223, 224,\n",
       "        229,  29],\n",
       "       [ 75, 204, 212, 204, 193, 205, 211, 225, 216, 185, 197, 206, 198,\n",
       "        213, 240, 195, 227, 245, 239, 223, 218, 212, 209, 222, 220, 221,\n",
       "        230,  67],\n",
       "       [ 48, 203, 183, 194, 213, 197, 185, 190, 194, 192, 202, 214, 219,\n",
       "        221, 220, 236, 225, 216, 199, 206, 186, 181, 177, 172, 181, 205,\n",
       "        206, 115],\n",
       "       [  0, 122, 219, 193, 179, 171, 183, 196, 204, 210, 213, 207, 211,\n",
       "        210, 200, 196, 194, 191, 195, 191, 198, 192, 176, 156, 167, 177,\n",
       "        210,  92],\n",
       "       [  0,   0,  74, 189, 212, 191, 175, 172, 175, 181, 185, 188, 189,\n",
       "        188, 193, 198, 204, 209, 210, 210, 211, 188, 188, 194, 192, 216,\n",
       "        170,   0],\n",
       "       [  2,   0,   0,   0,  66, 200, 222, 237, 239, 242, 246, 243, 244,\n",
       "        221, 220, 193, 191, 179, 182, 182, 181, 176, 166, 168,  99,  58,\n",
       "          0,   0],\n",
       "       [  0,   0,   0,   0,   0,   0,   0,  40,  61,  44,  72,  41,  35,\n",
       "          0,   0,   0,   0,   0,   0,   0,   0,   0,   0,   0,   0,   0,\n",
       "          0,   0],\n",
       "       [  0,   0,   0,   0,   0,   0,   0,   0,   0,   0,   0,   0,   0,\n",
       "          0,   0,   0,   0,   0,   0,   0,   0,   0,   0,   0,   0,   0,\n",
       "          0,   0],\n",
       "       [  0,   0,   0,   0,   0,   0,   0,   0,   0,   0,   0,   0,   0,\n",
       "          0,   0,   0,   0,   0,   0,   0,   0,   0,   0,   0,   0,   0,\n",
       "          0,   0]], dtype=uint8)"
      ]
     },
     "execution_count": 9,
     "metadata": {},
     "output_type": "execute_result"
    }
   ],
   "source": [
    "x_train[0]"
   ]
  },
  {
   "cell_type": "code",
   "execution_count": 10,
   "id": "639fe1da-f7e7-4165-83b4-b60a80fdd907",
   "metadata": {},
   "outputs": [
    {
     "data": {
      "text/plain": [
       "60000"
      ]
     },
     "execution_count": 10,
     "metadata": {},
     "output_type": "execute_result"
    }
   ],
   "source": [
    "len(y_train)"
   ]
  },
  {
   "cell_type": "code",
   "execution_count": 11,
   "id": "67c9a79d-72d0-4769-bcae-49cfc9835aaf",
   "metadata": {},
   "outputs": [
    {
     "data": {
      "text/plain": [
       "9"
      ]
     },
     "execution_count": 11,
     "metadata": {},
     "output_type": "execute_result"
    }
   ],
   "source": [
    "y_train[0]"
   ]
  },
  {
   "cell_type": "code",
   "execution_count": 12,
   "id": "778fbcf9-a5f5-4825-aa8a-8f7efb41f5e2",
   "metadata": {},
   "outputs": [
    {
     "data": {
      "text/plain": [
       "2"
      ]
     },
     "execution_count": 12,
     "metadata": {},
     "output_type": "execute_result"
    }
   ],
   "source": [
    "y_train[5]"
   ]
  },
  {
   "cell_type": "code",
   "execution_count": 13,
   "id": "2c562212-0b75-417a-9ccb-5d3cbe3c4f53",
   "metadata": {},
   "outputs": [
    {
     "data": {
      "text/plain": [
       "10000"
      ]
     },
     "execution_count": 13,
     "metadata": {},
     "output_type": "execute_result"
    }
   ],
   "source": [
    "len(x_test)"
   ]
  },
  {
   "cell_type": "code",
   "execution_count": 14,
   "id": "873d92c3-da8e-4447-9059-b96d3582dec3",
   "metadata": {},
   "outputs": [
    {
     "data": {
      "text/plain": [
       "array([[  0,   0,   0,   0,   0,   0,   0,   0,   0,   0,   0,   0,   0,\n",
       "          0,   0,   0,   0,   0,   0,   0,   0,   0,   0,   0,   0,   0,\n",
       "          0,   0],\n",
       "       [  0,   0,   0,   0,   0,   0,   0,   0,   0,   0,   0,   0,   0,\n",
       "          0,   0,   0,   0,   0,   0,   0,   0,   0,   0,   0,   0,   0,\n",
       "          0,   0],\n",
       "       [  0,   0,   0,   0,   0,   0,   0,   0,   0,   0,   0,   0,   0,\n",
       "          0,   0,   0,   0,   0,   0,   0,   0,   0,   0,   0,   0,   0,\n",
       "          0,   0],\n",
       "       [  0,   0,   0,   0,   0,   0,   0,   0,   0,   0,   0,   0,   0,\n",
       "          0,   0,   0,   0,   0,   0,   0,   0,   0,   0,   0,   0,   0,\n",
       "          0,   0],\n",
       "       [  0,   0,   0,   0,   0,   0,   0,   0,   0,   0,   0,   0,   0,\n",
       "          0,   0,   0,   0,   0,   0,   0,   0,   0,   0,   0,   0,   0,\n",
       "          0,   0],\n",
       "       [  0,   0,   0,   0,   0,   0,   0,   0,   0,   0,   0,   0,   0,\n",
       "          0,   0,   0,   0,   0,   0,   0,   0,   0,   0,   0,   0,   0,\n",
       "          0,   0],\n",
       "       [  0,   0,   0,   0,   0,   0,   0,   0,   0,   0,   0,   0,   0,\n",
       "          0,   0,   0,   0,   0,   0,   0,   0,   0,   0,   0,   0,   0,\n",
       "          0,   0],\n",
       "       [  0,   0,   0,   0,   0,   0,   0,   0,   0,   0,   0,   0,   0,\n",
       "          0,   0,   0,   0,   0,   0,   3,   1,   0,   0,   7,   0,  37,\n",
       "          0,   0],\n",
       "       [  0,   0,   0,   0,   0,   0,   0,   0,   0,   0,   0,   0,   0,\n",
       "          1,   2,   0,  27,  84,  11,   0,   0,   0,   0,   0,   0, 119,\n",
       "          0,   0],\n",
       "       [  0,   0,   0,   0,   0,   0,   0,   0,   0,   0,   0,   0,   0,\n",
       "          1,   0,   0,  88, 143, 110,   0,   0,   0,   0,  22,  93, 106,\n",
       "          0,   0],\n",
       "       [  0,   0,   0,   0,   0,   0,   0,   0,   0,   0,   0,   0,   0,\n",
       "          4,   0,  53, 129, 120, 147, 175, 157, 166, 135, 154, 168, 140,\n",
       "          0,   0],\n",
       "       [  0,   0,   0,   0,   0,   0,   0,   0,   0,   0,   0,   0,   2,\n",
       "          0,  11, 137, 130, 128, 160, 176, 159, 167, 178, 149, 151, 144,\n",
       "          0,   0],\n",
       "       [  0,   0,   0,   0,   0,   0,   1,   0,   2,   1,   0,   3,   0,\n",
       "          0, 115, 114, 106, 137, 168, 153, 156, 165, 167, 143, 157, 158,\n",
       "         11,   0],\n",
       "       [  0,   0,   0,   0,   1,   0,   0,   0,   0,   0,   3,   0,   0,\n",
       "         89, 139,  90,  94, 153, 149, 131, 151, 169, 172, 143, 159, 169,\n",
       "         48,   0],\n",
       "       [  0,   0,   0,   0,   0,   0,   2,   4,   1,   0,   0,   0,  98,\n",
       "        136, 110, 109, 110, 162, 135, 144, 149, 159, 167, 144, 158, 169,\n",
       "        119,   0],\n",
       "       [  0,   0,   2,   2,   1,   2,   0,   0,   0,   0,  26, 108, 117,\n",
       "         99, 111, 117, 136, 156, 134, 154, 154, 156, 160, 141, 147, 156,\n",
       "        178,   0],\n",
       "       [  3,   0,   0,   0,   0,   0,   0,  21,  53,  92, 117, 111, 103,\n",
       "        115, 129, 134, 143, 154, 165, 170, 154, 151, 154, 143, 138, 150,\n",
       "        165,  43],\n",
       "       [  0,   0,  23,  54,  65,  76,  85, 118, 128, 123, 111, 113, 118,\n",
       "        127, 125, 139, 133, 136, 160, 140, 155, 161, 144, 155, 172, 161,\n",
       "        189,  62],\n",
       "       [  0,  68,  94,  90, 111, 114, 111, 114, 115, 127, 135, 136, 143,\n",
       "        126, 127, 151, 154, 143, 148, 125, 162, 162, 144, 138, 153, 162,\n",
       "        196,  58],\n",
       "       [ 70, 169, 129, 104,  98, 100,  94,  97,  98, 102, 108, 106, 119,\n",
       "        120, 129, 149, 156, 167, 190, 190, 196, 198, 198, 187, 197, 189,\n",
       "        184,  36],\n",
       "       [ 16, 126, 171, 188, 188, 184, 171, 153, 135, 120, 126, 127, 146,\n",
       "        185, 195, 209, 208, 255, 209, 177, 245, 252, 251, 251, 247, 220,\n",
       "        206,  49],\n",
       "       [  0,   0,   0,  12,  67, 106, 164, 185, 199, 210, 211, 210, 208,\n",
       "        190, 150,  82,   8,   0,   0,   0, 178, 208, 188, 175, 162, 158,\n",
       "        151,  11],\n",
       "       [  0,   0,   0,   0,   0,   0,   0,   0,   0,   0,   0,   0,   0,\n",
       "          0,   0,   0,   0,   0,   0,   0,   0,   0,   0,   0,   0,   0,\n",
       "          0,   0],\n",
       "       [  0,   0,   0,   0,   0,   0,   0,   0,   0,   0,   0,   0,   0,\n",
       "          0,   0,   0,   0,   0,   0,   0,   0,   0,   0,   0,   0,   0,\n",
       "          0,   0],\n",
       "       [  0,   0,   0,   0,   0,   0,   0,   0,   0,   0,   0,   0,   0,\n",
       "          0,   0,   0,   0,   0,   0,   0,   0,   0,   0,   0,   0,   0,\n",
       "          0,   0],\n",
       "       [  0,   0,   0,   0,   0,   0,   0,   0,   0,   0,   0,   0,   0,\n",
       "          0,   0,   0,   0,   0,   0,   0,   0,   0,   0,   0,   0,   0,\n",
       "          0,   0],\n",
       "       [  0,   0,   0,   0,   0,   0,   0,   0,   0,   0,   0,   0,   0,\n",
       "          0,   0,   0,   0,   0,   0,   0,   0,   0,   0,   0,   0,   0,\n",
       "          0,   0],\n",
       "       [  0,   0,   0,   0,   0,   0,   0,   0,   0,   0,   0,   0,   0,\n",
       "          0,   0,   0,   0,   0,   0,   0,   0,   0,   0,   0,   0,   0,\n",
       "          0,   0]], dtype=uint8)"
      ]
     },
     "execution_count": 14,
     "metadata": {},
     "output_type": "execute_result"
    }
   ],
   "source": [
    "x_test[0]"
   ]
  },
  {
   "cell_type": "code",
   "execution_count": 15,
   "id": "833c3887-368e-4321-8680-2e6f01d34f7a",
   "metadata": {},
   "outputs": [
    {
     "data": {
      "text/plain": [
       "10000"
      ]
     },
     "execution_count": 15,
     "metadata": {},
     "output_type": "execute_result"
    }
   ],
   "source": [
    "len(y_test)"
   ]
  },
  {
   "cell_type": "code",
   "execution_count": 16,
   "id": "5bc2005e-e19d-43a4-9a28-8b51b12aac57",
   "metadata": {},
   "outputs": [
    {
     "data": {
      "text/plain": [
       "9"
      ]
     },
     "execution_count": 16,
     "metadata": {},
     "output_type": "execute_result"
    }
   ],
   "source": [
    "y_test[0]"
   ]
  },
  {
   "cell_type": "code",
   "execution_count": 17,
   "id": "ec40a4d4-7aff-4dcc-a1ee-df8ba7c20c10",
   "metadata": {},
   "outputs": [
    {
     "data": {
      "text/plain": [
       "9"
      ]
     },
     "execution_count": 17,
     "metadata": {},
     "output_type": "execute_result"
    }
   ],
   "source": [
    "y_train[0]"
   ]
  },
  {
   "cell_type": "code",
   "execution_count": 18,
   "id": "e737055b-3017-4219-a33e-02c993447ccb",
   "metadata": {},
   "outputs": [
    {
     "data": {
      "image/png": "[encoded data removed]",
      "text/plain": [
       "<Figure size 640x480 with 1 Axes>"
      ]
     },
     "metadata": {},
     "output_type": "display_data"
    },
    {
     "data": {
      "image/png": "[encoded data removed]",
      "text/plain": [
       "<Figure size 640x480 with 1 Axes>"
      ]
     },
     "metadata": {},
     "output_type": "display_data"
    },
    {
     "data": {
      "image/png": "[encoded data removed]",
      "text/plain": [
       "<Figure size 640x480 with 1 Axes>"
      ]
     },
     "metadata": {},
     "output_type": "display_data"
    },
    {
     "data": {
      "image/png": "[encoded data removed]",
      "text/plain": [
       "<Figure size 640x480 with 1 Axes>"
      ]
     },
     "metadata": {},
     "output_type": "display_data"
    },
    {
     "data": {
      "image/png": "[encoded data removed]",
      "text/plain": [
       "<Figure size 640x480 with 1 Axes>"
      ]
     },
     "metadata": {},
     "output_type": "display_data"
    }
   ],
   "source": [
    "#veri setinden örnek resim gösterme\n",
    "\n",
    "for i in range(5):\n",
    "    plt.imshow(x_test[i])\n",
    "    plt.title(\"Sınıf: \"+str(y_test[i]))\n",
    "    plt.axis(\"off\")\n",
    "    plt.show()"
   ]
  },
  {
   "cell_type": "code",
   "execution_count": 19,
   "id": "c9682985-b530-4b35-82e2-3fbeddcf8592",
   "metadata": {},
   "outputs": [],
   "source": [
    "#eğitim ve test verilerinin birleştirilmesi\n",
    "\n",
    "x_data=np.concatenate((x_train,x_test),axis=0)\n",
    "y_data=np.concatenate((y_train,y_test),axis=0)"
   ]
  },
  {
   "cell_type": "code",
   "execution_count": 20,
   "id": "26290b3a-b664-4e2c-b386-529743e0b1d5",
   "metadata": {},
   "outputs": [
    {
     "data": {
      "text/plain": [
       "70000"
      ]
     },
     "execution_count": 20,
     "metadata": {},
     "output_type": "execute_result"
    }
   ],
   "source": [
    "len(x_data)"
   ]
  },
  {
   "cell_type": "code",
   "execution_count": 21,
   "id": "8d024b06-72c8-4640-b3a0-82fc9ef1af9e",
   "metadata": {},
   "outputs": [
    {
     "data": {
      "text/plain": [
       "70000"
      ]
     },
     "execution_count": 21,
     "metadata": {},
     "output_type": "execute_result"
    }
   ],
   "source": [
    "len(y_data)"
   ]
  },
  {
   "cell_type": "code",
   "execution_count": 22,
   "id": "962dc55e-366d-45c1-bcbc-eb8da1df2cec",
   "metadata": {},
   "outputs": [
    {
     "data": {
      "text/plain": [
       "array([[  0,   0,   0,   0,   0,   0,   0,   0,   0,   1,   0,   0,  18,\n",
       "        107, 119, 103,   9,   0,   0,   0,   0,   0,   0,   0,   0,   0,\n",
       "          0,   0],\n",
       "       [  0,   0,   0,   0,   0,   0,   0,   0,   0,   0,   0,  99, 155,\n",
       "        113,  61, 118, 173, 117,   0,   0,   3,   0,   0,   0,   0,   0,\n",
       "          0,   0],\n",
       "       [  0,   0,   0,   0,   0,   0,   0,   0,   1,   0, 110, 136,   0,\n",
       "          0,   0,   0,   0, 167, 159,   0,   0,   2,   0,   0,   0,   0,\n",
       "          0,   0],\n",
       "       [  0,   0,   0,   0,   0,   1,   0,   6,   0,  72, 147,   0,   0,\n",
       "          5,   0,   2,   0,   0, 174, 118,   0,   5,   0,   0,   0,   0,\n",
       "          0,   0],\n",
       "       [  0,   0,   0,   0,   0,   1,   5,   0,   0, 174,   4,   0,   4,\n",
       "          0,   0,   0,   0,   0,   0, 204,  44,   0,   4,   0,   0,   0,\n",
       "          0,   0],\n",
       "       [  0,   0,   0,   0,   0,   0,   8,   0, 125, 128,   0,   9,   0,\n",
       "          0,   0,   0,   0,   2,   0, 107, 152,   0,   6,   0,   0,   0,\n",
       "          0,   0],\n",
       "       [  0,   0,   0,   0,   0,   0,   0,   0, 184,   9,   0,   4,   0,\n",
       "          0,   0,   0,   0,   2,   0,   0, 190,   0,   0,   2,   0,   0,\n",
       "          0,   0],\n",
       "       [  0,   0,   0,   1,   0,   2,   0,  73, 158,   0,   0,   0,   0,\n",
       "          1,   0,   0,   0,   0,   4,   0, 157,  79,   0,   3,   1,   0,\n",
       "          0,   0],\n",
       "       [  0,   0,   2,   5,   1,   0,   0, 157,  98,   0,   2,   0,   0,\n",
       "          1,   0,   0,   0,   0,   5,   0, 121, 145,   0,   0,   0,   0,\n",
       "          0,   0],\n",
       "       [  0,   0,   0,   0,   0,   0,   0, 231,  84,   0,   2,   1,   1,\n",
       "          0,   0,   0,   0,   0,   1,   0,  92, 223,  16,   0,   7,   4,\n",
       "          1,   0],\n",
       "       [  0,   0,   0,   0,   0,   0,  38, 183,  81,   0,   0,   0,   2,\n",
       "          2,   1,   2,   1,   0,   1,   0, 120, 226,  57,   0,   0,   0,\n",
       "          0,   0],\n",
       "       [  0,   0, 173, 216, 193, 213, 183, 164, 167,  98,  16,   0,   0,\n",
       "          0,   0,   0,   0,   0,   0,   0, 107, 141, 111,  91,  90, 108,\n",
       "         50,   0],\n",
       "       [  0,   0, 185, 221, 217, 210, 202, 222, 200, 206, 202, 204, 109,\n",
       "         27,  12,  17,  61, 136, 180, 221, 202, 225, 208, 214, 223, 240,\n",
       "        162,   0],\n",
       "       [  0,   0, 183, 220, 205, 200, 193, 184, 189, 182, 173, 194, 215,\n",
       "        216, 205, 207, 207, 195, 185, 194, 194, 203, 212, 183, 193, 211,\n",
       "        153,   0],\n",
       "       [  0,   0, 190, 233, 203, 206, 214, 216, 195, 183, 176, 159, 175,\n",
       "        189, 202, 195, 186, 186, 182, 186, 195, 209, 235, 203, 202, 215,\n",
       "        136,   0],\n",
       "       [  0,   0, 180, 228, 201, 202, 188, 183, 178, 192, 186, 181, 181,\n",
       "        177, 204, 217, 175, 179, 184, 176, 166, 169, 175, 185, 152, 203,\n",
       "        107,   0],\n",
       "       [  0,   0, 167, 235, 200, 207, 207, 209, 207, 203, 198, 189, 182,\n",
       "        178, 186, 189, 178, 192, 197, 195, 192, 185, 184, 205, 187, 255,\n",
       "         61,   0],\n",
       "       [  0,   0, 152, 250, 208, 214, 209, 202, 200, 202, 205, 204, 200,\n",
       "        192, 198, 204, 195, 205, 206, 198, 199, 203, 214, 207, 179, 249,\n",
       "         55,   0],\n",
       "       [  0,   0, 126, 255, 211, 215, 210, 206, 203, 203, 203, 206, 204,\n",
       "        199, 206, 207, 200, 206, 201, 199, 202, 208, 215, 195, 174, 211,\n",
       "         15,   0],\n",
       "       [  0,   0, 107, 255, 212, 211, 210, 211, 208, 206, 206, 207, 208,\n",
       "        208, 217, 214, 205, 206, 204, 208, 211, 211, 220, 197, 182, 225,\n",
       "          0,   0],\n",
       "       [  0,   0,  63, 232, 211, 216, 212, 214, 212, 212, 214, 212, 211,\n",
       "        212, 223, 219, 210, 214, 213, 212, 211, 209, 217, 208, 168, 190,\n",
       "          0,   0],\n",
       "       [  0,   0,  14, 255, 218, 221, 215, 218, 218, 217, 215, 213, 211,\n",
       "        215, 228, 220, 216, 222, 217, 217, 216, 218, 212, 213, 189, 143,\n",
       "          0,   0],\n",
       "       [  0,   0,   0, 230, 227, 214, 217, 218, 216, 217, 217, 214, 216,\n",
       "        222, 226, 218, 218, 220, 219, 218, 217, 218, 217, 215, 216, 113,\n",
       "          0,   0],\n",
       "       [  0,   0,   0, 177, 233, 216, 223, 222, 213, 213, 215, 212, 220,\n",
       "        226, 221, 220, 221, 218, 222, 220, 220, 221, 217, 212, 219,  52,\n",
       "          0,   0],\n",
       "       [  0,   0,   0,  10, 223, 222, 220, 211, 213, 215, 220, 222, 226,\n",
       "        226, 221, 223, 222, 222, 221, 218, 220, 219, 220, 223, 174,   0,\n",
       "          0,   0],\n",
       "       [  0,   0,   0,   0, 126, 241, 208, 210, 214, 214, 216, 216, 220,\n",
       "        220, 214, 213, 212, 212, 210, 215, 217, 218, 215, 236,  42,   0,\n",
       "          1,   0],\n",
       "       [  0,   0,   0,   0,   0, 188, 237, 230, 233, 255, 255, 255, 255,\n",
       "        255, 255, 255, 255, 255, 255, 255, 231, 229, 239, 161,   0,   0,\n",
       "          0,   0],\n",
       "       [  0,   0,   0,   0,   0,   0,  63,  95, 108, 105, 100, 103, 104,\n",
       "        105, 102, 100,  98,  97,  96,  90,  80,  83,  60,   0,   0,   0,\n",
       "          0,   0]], dtype=uint8)"
      ]
     },
     "execution_count": 22,
     "metadata": {},
     "output_type": "execute_result"
    }
   ],
   "source": [
    "x_data[100]"
   ]
  },
  {
   "cell_type": "code",
   "execution_count": 23,
   "id": "0f060057-4003-4f12-aaa1-3f93977803b5",
   "metadata": {},
   "outputs": [
    {
     "data": {
      "text/plain": [
       "8"
      ]
     },
     "execution_count": 23,
     "metadata": {},
     "output_type": "execute_result"
    }
   ],
   "source": [
    "y_data[100]"
   ]
  },
  {
   "cell_type": "code",
   "execution_count": 24,
   "id": "67951527-0c45-423f-b7d8-5d8494bff5e4",
   "metadata": {},
   "outputs": [],
   "source": [
    "#eğitim ve test verisi olarak bölme\n",
    "\n",
    "x_train,x_test,y_train,y_test= train_test_split(x_data,y_data,test_size=0.2,random_state=42)"
   ]
  },
  {
   "cell_type": "code",
   "execution_count": 25,
   "id": "3af87915-4906-4c26-9af1-8942df7f27d3",
   "metadata": {},
   "outputs": [
    {
     "data": {
      "text/plain": [
       "56000"
      ]
     },
     "execution_count": 25,
     "metadata": {},
     "output_type": "execute_result"
    }
   ],
   "source": [
    "len(x_train)"
   ]
  },
  {
   "cell_type": "code",
   "execution_count": 26,
   "id": "4b69fb83-02c6-4e50-8c40-a6d48718fd70",
   "metadata": {},
   "outputs": [
    {
     "data": {
      "text/plain": [
       "56000"
      ]
     },
     "execution_count": 26,
     "metadata": {},
     "output_type": "execute_result"
    }
   ],
   "source": [
    "len(y_train)"
   ]
  },
  {
   "cell_type": "code",
   "execution_count": 27,
   "id": "281f4099-c359-465b-afad-f9d54bc8c0d9",
   "metadata": {},
   "outputs": [
    {
     "data": {
      "text/plain": [
       "array([[  0,   0,   0,   0,   0,   0,   0,   0,   0,   0,   0,   0,   0,\n",
       "          0,   0,   0,   0,   0,   0,   0,   0,   0,   0,   0,   0,   0,\n",
       "          0,   0],\n",
       "       [  0,   0,   0,   0,   0,   0,   0,   0,   0,   0,   0,   0,   0,\n",
       "          0,   0,   0,   0,   0,   0,   0,   0,   0,   0,   0,   0,   0,\n",
       "          0,   0],\n",
       "       [  0,   0,   0,   0,   0,   0,   0,   0,   0,   0,   0,   0,   0,\n",
       "          0,   0,   0,   0,   0,   0,   0,   0,   0,   0,   0,   0,   0,\n",
       "          0,   0],\n",
       "       [  0,   0,   0,   0,   0,   0,   0,   0,   0,   0,   0,   0,   0,\n",
       "          0,   0,   0,   0,   0,   0,   0,   0,   0,   0,   0,   0,   0,\n",
       "          0,   0],\n",
       "       [  0,   0,   0,   0,   0,   0,   0,   0,   0,   0,   0,   0,   0,\n",
       "          0,   0,   0,   0,   0,   0,   0,   0,   0,   0,   0,   0,   0,\n",
       "          0,   0],\n",
       "       [  0,   0,   0,   0,   0,   0,   0,   0,   0,   0,   0,   0,   0,\n",
       "          0,   0,   0,   0,   0,   0,   0,   0,   0,   0,   0,   0,   0,\n",
       "          0,   0],\n",
       "       [ 52, 107,   0,  81, 133,  66,  59,  62,  51,  51,  66,  75,  78,\n",
       "         66,  60,  58,  62,  66,  66,  66,  73,  83, 118,  44,   0,  76,\n",
       "         36,   0],\n",
       "       [185, 206, 217, 188, 150, 165, 189, 184, 166, 165, 177, 180, 175,\n",
       "        188, 182, 176, 183, 204, 214, 180, 172, 201, 215, 197, 237, 208,\n",
       "        202, 163],\n",
       "       [165, 214, 183, 174, 168, 156, 158, 171, 172, 178, 162, 140, 122,\n",
       "        129, 123, 121, 120, 126, 141, 135, 132, 154, 160, 160, 205, 194,\n",
       "        220, 163],\n",
       "       [  0, 193, 195, 171, 184, 201, 200, 195, 192, 189, 179, 191, 217,\n",
       "        212, 201, 199, 203, 199, 201, 189, 188, 185, 156, 195, 207, 184,\n",
       "        212,  15],\n",
       "       [  0, 147, 222, 150, 177, 193, 199, 206, 219, 200, 192, 195, 215,\n",
       "        200, 207, 214, 215, 206, 212, 179, 186, 178, 167, 195, 151, 237,\n",
       "        175,   0],\n",
       "       [  0,  62, 215, 154, 180, 167, 180, 176, 180, 181, 186, 216, 190,\n",
       "        187, 195, 189, 184, 172, 185, 180, 162, 154, 197, 177, 203, 231,\n",
       "          0,   0],\n",
       "       [  0, 101, 214, 182, 186, 195, 201, 194, 199, 197, 188, 211, 189,\n",
       "        189, 196, 192, 193, 179, 184, 191, 167, 224, 220, 164, 223,  86,\n",
       "          0,   1],\n",
       "       [  0, 240, 193, 176, 204, 197, 193, 210, 191, 188, 209, 199, 199,\n",
       "        200, 202, 202, 207, 188, 182, 177, 237, 143, 121, 202, 212, 188,\n",
       "          0,   0],\n",
       "       [  0, 171, 191, 174, 191, 195, 190, 205, 213, 220, 205, 212, 194,\n",
       "        201, 206, 193, 198, 197, 185, 207, 223,   0, 120, 194, 196, 210,\n",
       "          0,   0],\n",
       "       [  0, 213, 195, 170, 188, 191, 203, 200, 203, 206, 200, 213, 208,\n",
       "        211, 216, 196, 201, 192, 177, 255,  46,  14, 255, 164, 206, 199,\n",
       "          0,   0],\n",
       "       [  0, 216, 190, 166, 195, 214, 211, 214, 227, 207, 203, 196, 203,\n",
       "        212, 215, 201, 211, 185, 198, 213, 232, 223, 205, 171, 209, 190,\n",
       "          0,   0],\n",
       "       [  0, 213, 188, 182, 203, 207, 216, 202, 212, 211, 217, 241, 228,\n",
       "        223, 230, 217, 224, 209, 209, 202, 211, 202, 192, 178, 207, 178,\n",
       "          0,   0],\n",
       "       [  0, 216, 184, 188, 204, 208, 192, 220, 199, 212, 212, 212, 223,\n",
       "        225, 223, 215, 206, 201, 203, 199, 203, 191, 206, 183, 206, 172,\n",
       "          0,   0],\n",
       "       [  0, 204, 193, 197, 206, 212, 218, 240, 237, 231, 213, 228, 192,\n",
       "        193, 223, 233, 227, 220, 232, 215, 217, 204, 191, 183, 209, 180,\n",
       "          0,   0],\n",
       "       [  0, 186, 188, 170, 199, 200, 190, 194, 199, 210, 207, 208, 182,\n",
       "        178, 194, 189, 216, 208, 209, 202, 207, 199, 187, 179, 204, 163,\n",
       "          0,   0],\n",
       "       [  0, 171, 190, 177, 219, 233, 230, 246, 240, 237, 214, 233, 229,\n",
       "        243, 233, 215, 226, 206, 218, 214, 218, 211, 209, 179, 203, 120,\n",
       "          0,   1],\n",
       "       [  0,  30, 108, 144, 156, 156, 161, 159, 143, 158, 166, 173, 156,\n",
       "        170, 180, 183, 197, 182, 177, 177, 178, 172, 178, 179, 178,   6,\n",
       "          0,   1],\n",
       "       [  0,   0,   0,   0,   0,   0,   0,   0,   0,   0,   0,   0,   0,\n",
       "          0,   0,   0,   0,   0,   0,   0,   0,   0,   0,   0,   0,   0,\n",
       "          0,   0],\n",
       "       [  0,   0,   0,   0,   0,   0,   0,   0,   0,   0,   0,   0,   0,\n",
       "          0,   0,   0,   0,   0,   0,   0,   0,   0,   0,   0,   0,   0,\n",
       "          0,   0],\n",
       "       [  0,   0,   0,   0,   0,   0,   0,   0,   0,   0,   0,   0,   0,\n",
       "          0,   0,   0,   0,   0,   0,   0,   0,   0,   0,   0,   0,   0,\n",
       "          0,   0],\n",
       "       [  0,   0,   0,   0,   0,   0,   0,   0,   0,   0,   0,   0,   0,\n",
       "          0,   0,   0,   0,   0,   0,   0,   0,   0,   0,   0,   0,   0,\n",
       "          0,   0],\n",
       "       [  0,   0,   0,   0,   0,   0,   0,   0,   0,   0,   0,   0,   0,\n",
       "          0,   0,   0,   0,   0,   0,   0,   0,   0,   0,   0,   0,   0,\n",
       "          0,   0]], dtype=uint8)"
      ]
     },
     "execution_count": 27,
     "metadata": {},
     "output_type": "execute_result"
    }
   ],
   "source": [
    "x_train[0]"
   ]
  },
  {
   "cell_type": "code",
   "execution_count": 28,
   "id": "0bb9096e-e853-403e-a10b-1abf79cddd33",
   "metadata": {},
   "outputs": [
    {
     "data": {
      "text/plain": [
       "56000.0"
      ]
     },
     "execution_count": 28,
     "metadata": {},
     "output_type": "execute_result"
    }
   ],
   "source": [
    "70000*0.8"
   ]
  },
  {
   "cell_type": "code",
   "execution_count": 29,
   "id": "6c7e2596-e636-4aba-b0d0-e4d3d3a50239",
   "metadata": {},
   "outputs": [
    {
     "data": {
      "text/plain": [
       "8"
      ]
     },
     "execution_count": 29,
     "metadata": {},
     "output_type": "execute_result"
    }
   ],
   "source": [
    "y_train[0]"
   ]
  },
  {
   "cell_type": "code",
   "execution_count": 30,
   "id": "f27fe347-c6bf-43de-acf0-35f7f6c101dc",
   "metadata": {},
   "outputs": [
    {
     "data": {
      "text/plain": [
       "14000"
      ]
     },
     "execution_count": 30,
     "metadata": {},
     "output_type": "execute_result"
    }
   ],
   "source": [
    "len(x_test)"
   ]
  },
  {
   "cell_type": "code",
   "execution_count": 31,
   "id": "b61effd6-3426-498e-8702-08efdc0dd85d",
   "metadata": {},
   "outputs": [
    {
     "data": {
      "text/plain": [
       "14000"
      ]
     },
     "execution_count": 31,
     "metadata": {},
     "output_type": "execute_result"
    }
   ],
   "source": [
    "len(y_test)"
   ]
  },
  {
   "cell_type": "code",
   "execution_count": 32,
   "id": "dc350e69-d3e2-4350-a1cf-edaceaef0a3e",
   "metadata": {},
   "outputs": [],
   "source": [
    "# verilerin 0-1 arasında normalize edilmesi\n",
    "\n",
    "x_train=x_train.astype('float32')/255.0\n",
    "x_test=x_test.astype('float32')/255.0"
   ]
  },
  {
   "cell_type": "code",
   "execution_count": 33,
   "id": "bccc2ad0-3e3d-404b-b95e-156f66a64d1b",
   "metadata": {},
   "outputs": [
    {
     "data": {
      "text/plain": [
       "array([[0.    , 0.    , 0.    , 0.    , 0.    , 0.    , 0.    , 0.    ,\n",
       "        0.    , 0.    , 0.2824, 0.7255, 0.4863, 0.3059, 0.3176, 0.4235,\n",
       "        0.6196, 0.7647, 0.3725, 0.149 , 0.    , 0.    , 0.    , 0.    ,\n",
       "        0.0039, 0.    , 0.    , 0.    ],\n",
       "       [0.    , 0.    , 0.    , 0.    , 0.    , 0.    , 0.    , 0.251 ,\n",
       "        0.5294, 0.7059, 0.651 , 0.8039, 0.9137, 0.8824, 0.9725, 0.7804,\n",
       "        1.    , 0.7686, 0.5882, 0.7137, 0.6549, 0.3725, 0.1451, 0.    ,\n",
       "        0.    , 0.    , 0.    , 0.    ],\n",
       "       [0.    , 0.    , 0.    , 0.    , 0.    , 0.4314, 0.6353, 0.7137,\n",
       "        0.6706, 0.6196, 0.5647, 0.6235, 0.7137, 0.4588, 0.1843, 0.    ,\n",
       "        0.702 , 0.6157, 0.5333, 0.5608, 0.6039, 0.6431, 0.6275, 0.5725,\n",
       "        0.1059, 0.    , 0.    , 0.    ],\n",
       "       [0.    , 0.    , 0.    , 0.    , 0.5961, 0.7647, 0.6863, 0.6706,\n",
       "        0.6745, 0.6039, 0.5961, 0.5725, 0.5529, 0.6078, 0.6275, 0.6353,\n",
       "        0.6392, 0.6157, 0.651 , 0.6353, 0.6039, 0.5647, 0.5608, 0.6275,\n",
       "        0.7451, 0.0392, 0.    , 0.    ],\n",
       "       [0.    , 0.    , 0.    , 0.0902, 0.7333, 0.7216, 0.702 , 0.6902,\n",
       "        0.6588, 0.6353, 0.6039, 0.6078, 0.6196, 0.5922, 0.6196, 0.6706,\n",
       "        0.5961, 0.5843, 0.6157, 0.6314, 0.6   , 0.6118, 0.6431, 0.5725,\n",
       "        0.6588, 0.3412, 0.    , 0.    ],\n",
       "       [0.    , 0.    , 0.    , 0.4275, 0.749 , 0.7373, 0.7255, 0.698 ,\n",
       "        0.6745, 0.6039, 0.5961, 0.5922, 0.5725, 0.6118, 0.6039, 0.5608,\n",
       "        0.5961, 0.5922, 0.6039, 0.6235, 0.651 , 0.6118, 0.5882, 0.6118,\n",
       "        0.6235, 0.6196, 0.    , 0.    ],\n",
       "       [0.    , 0.    , 0.    , 0.7333, 0.7333, 0.7176, 0.7294, 0.6941,\n",
       "        0.6471, 0.6078, 0.5961, 0.5647, 0.6314, 0.6431, 0.5922, 0.6118,\n",
       "        0.6314, 0.6745, 0.5529, 0.5804, 0.5686, 0.6157, 0.6118, 0.6784,\n",
       "        0.6275, 0.7569, 0.102 , 0.    ],\n",
       "       [0.    , 0.    , 0.0078, 0.6353, 0.6863, 0.7059, 0.651 , 0.698 ,\n",
       "        0.702 , 0.6235, 0.5961, 0.6706, 0.6196, 0.6157, 0.6471, 0.6353,\n",
       "        0.6157, 0.6275, 0.6039, 0.6196, 0.6235, 0.6588, 0.7098, 0.6667,\n",
       "        0.6275, 0.6824, 0.3137, 0.    ],\n",
       "       [0.    , 0.    , 0.2314, 0.7373, 0.7333, 0.7529, 0.7843, 0.6588,\n",
       "        0.6941, 0.6902, 0.6275, 0.6078, 0.6392, 0.6039, 0.6039, 0.6157,\n",
       "        0.6275, 0.6431, 0.5647, 0.5725, 0.6196, 0.6275, 0.7176, 0.6667,\n",
       "        0.698 , 0.698 , 0.6118, 0.    ],\n",
       "       [0.    , 0.    , 0.0941, 0.2902, 0.4157, 0.5922, 0.7647, 0.7765,\n",
       "        0.6157, 0.6549, 0.6392, 0.5804, 0.6588, 0.6235, 0.5804, 0.6392,\n",
       "        0.5961, 0.6157, 0.6235, 0.5765, 0.5922, 0.5804, 0.7098, 0.6706,\n",
       "        0.4941, 0.3176, 0.2118, 0.    ],\n",
       "       [0.    , 0.    , 0.    , 0.    , 0.    , 0.    , 0.    , 0.6   ,\n",
       "        0.6902, 0.6275, 0.6275, 0.6549, 0.651 , 0.6275, 0.6353, 0.651 ,\n",
       "        0.6353, 0.6118, 0.5961, 0.5961, 0.6824, 0.6078, 0.    , 0.    ,\n",
       "        0.    , 0.    , 0.    , 0.    ],\n",
       "       [0.    , 0.    , 0.0078, 0.0078, 0.    , 0.    , 0.    , 0.498 ,\n",
       "        0.7176, 0.6   , 0.6392, 0.6706, 0.6667, 0.6471, 0.6392, 0.6353,\n",
       "        0.6863, 0.6549, 0.6549, 0.6353, 0.6314, 0.6039, 0.    , 0.    ,\n",
       "        0.    , 0.0078, 0.0078, 0.    ],\n",
       "       [0.    , 0.    , 0.    , 0.    , 0.    , 0.0039, 0.    , 0.4745,\n",
       "        0.6392, 0.5843, 0.6039, 0.6078, 0.6078, 0.6392, 0.6078, 0.6431,\n",
       "        0.6549, 0.6392, 0.6392, 0.5882, 0.6   , 0.5529, 0.    , 0.    ,\n",
       "        0.0039, 0.    , 0.    , 0.    ],\n",
       "       [0.    , 0.    , 0.    , 0.    , 0.    , 0.    , 0.    , 0.4314,\n",
       "        0.651 , 0.5922, 0.6118, 0.6314, 0.6118, 0.6157, 0.6078, 0.6353,\n",
       "        0.6078, 0.6   , 0.6039, 0.5882, 0.6353, 0.4157, 0.    , 0.0039,\n",
       "        0.    , 0.0039, 0.    , 0.    ],\n",
       "       [0.    , 0.    , 0.    , 0.    , 0.    , 0.    , 0.    , 0.3608,\n",
       "        0.6353, 0.6235, 0.6706, 0.6118, 0.6431, 0.6667, 0.6157, 0.6706,\n",
       "        0.6706, 0.6196, 0.6157, 0.6196, 0.6392, 0.2941, 0.    , 0.0039,\n",
       "        0.    , 0.0039, 0.0039, 0.    ],\n",
       "       [0.    , 0.    , 0.    , 0.    , 0.    , 0.0039, 0.    , 0.2824,\n",
       "        0.6235, 0.6196, 0.6353, 0.6235, 0.6588, 0.6039, 0.6157, 0.6196,\n",
       "        0.6353, 0.6196, 0.6667, 0.6118, 0.6431, 0.2431, 0.    , 0.0039,\n",
       "        0.    , 0.    , 0.    , 0.    ],\n",
       "       [0.    , 0.    , 0.    , 0.    , 0.    , 0.0157, 0.    , 0.1216,\n",
       "        0.7176, 0.6078, 0.6078, 0.6392, 0.6353, 0.6275, 0.6392, 0.6039,\n",
       "        0.6353, 0.6824, 0.6941, 0.6275, 0.7373, 0.2039, 0.    , 0.0078,\n",
       "        0.    , 0.    , 0.    , 0.    ],\n",
       "       [0.    , 0.    , 0.0039, 0.    , 0.    , 0.0157, 0.    , 0.0706,\n",
       "        0.6863, 0.6235, 0.6235, 0.6157, 0.6706, 0.6706, 0.5961, 0.6863,\n",
       "        0.7647, 0.7098, 0.6706, 0.6196, 0.6902, 0.1882, 0.    , 0.0078,\n",
       "        0.    , 0.    , 0.    , 0.    ],\n",
       "       [0.    , 0.    , 0.0039, 0.    , 0.    , 0.0157, 0.    , 0.0431,\n",
       "        0.6863, 0.6314, 0.6667, 0.6314, 0.6471, 0.6392, 0.6039, 0.6588,\n",
       "        0.6863, 0.6824, 0.6745, 0.6275, 0.6784, 0.1725, 0.    , 0.0039,\n",
       "        0.    , 0.    , 0.    , 0.    ],\n",
       "       [0.    , 0.    , 0.0039, 0.    , 0.    , 0.0157, 0.    , 0.0353,\n",
       "        0.7098, 0.6275, 0.6353, 0.6431, 0.6235, 0.651 , 0.651 , 0.5804,\n",
       "        0.6784, 0.7098, 0.6784, 0.651 , 0.702 , 0.1725, 0.    , 0.0039,\n",
       "        0.    , 0.    , 0.    , 0.    ],\n",
       "       [0.    , 0.    , 0.0039, 0.    , 0.    , 0.0157, 0.    , 0.0588,\n",
       "        0.7333, 0.6275, 0.7098, 0.6745, 0.6471, 0.6471, 0.6667, 0.6314,\n",
       "        0.6824, 0.6745, 0.6941, 0.6431, 0.7137, 0.2392, 0.    , 0.    ,\n",
       "        0.    , 0.    , 0.    , 0.    ],\n",
       "       [0.    , 0.    , 0.0039, 0.    , 0.    , 0.0196, 0.    , 0.0745,\n",
       "        0.7529, 0.6   , 0.6196, 0.6431, 0.6863, 0.6863, 0.6941, 0.6196,\n",
       "        0.7059, 0.698 , 0.6784, 0.6275, 0.698 , 0.2784, 0.    , 0.    ,\n",
       "        0.    , 0.    , 0.    , 0.    ],\n",
       "       [0.    , 0.    , 0.0039, 0.    , 0.    , 0.0196, 0.    , 0.1098,\n",
       "        0.7373, 0.5882, 0.6118, 0.6353, 0.6941, 0.6745, 0.6824, 0.651 ,\n",
       "        0.6784, 0.749 , 0.6863, 0.6235, 0.6314, 0.3647, 0.    , 0.    ,\n",
       "        0.    , 0.    , 0.    , 0.    ],\n",
       "       [0.    , 0.    , 0.    , 0.    , 0.    , 0.0078, 0.    , 0.2039,\n",
       "        0.651 , 0.6196, 0.651 , 0.5961, 0.6784, 0.6706, 0.6157, 0.6667,\n",
       "        0.6392, 0.698 , 0.6941, 0.6392, 0.6471, 0.4392, 0.    , 0.    ,\n",
       "        0.    , 0.    , 0.    , 0.    ],\n",
       "       [0.    , 0.    , 0.    , 0.    , 0.    , 0.0039, 0.    , 0.3333,\n",
       "        0.6549, 0.6314, 0.6706, 0.6431, 0.6745, 0.6902, 0.6902, 0.6706,\n",
       "        0.6706, 0.6863, 0.6706, 0.651 , 0.6745, 0.4902, 0.    , 0.    ,\n",
       "        0.    , 0.    , 0.    , 0.    ],\n",
       "       [0.    , 0.    , 0.    , 0.    , 0.    , 0.0039, 0.    , 0.3647,\n",
       "        0.6392, 0.6353, 0.651 , 0.6471, 0.6431, 0.6588, 0.698 , 0.6824,\n",
       "        0.698 , 0.7059, 0.6667, 0.6667, 0.6745, 0.5412, 0.    , 0.    ,\n",
       "        0.    , 0.    , 0.    , 0.    ],\n",
       "       [0.    , 0.    , 0.    , 0.    , 0.    , 0.    , 0.    , 0.5373,\n",
       "        0.698 , 0.6353, 0.698 , 0.6863, 0.6902, 0.7059, 0.6784, 0.6706,\n",
       "        0.6863, 0.6824, 0.7059, 0.6745, 0.6824, 0.7059, 0.    , 0.    ,\n",
       "        0.0039, 0.0039, 0.    , 0.    ],\n",
       "       [0.    , 0.    , 0.    , 0.    , 0.    , 0.    , 0.    , 0.4078,\n",
       "        0.6314, 0.6118, 0.6275, 0.6196, 0.6314, 0.6471, 0.5922, 0.6   ,\n",
       "        0.6157, 0.5961, 0.5804, 0.5765, 0.6275, 0.5412, 0.    , 0.    ,\n",
       "        0.0039, 0.    , 0.    , 0.    ]], dtype=float32)"
      ]
     },
     "execution_count": 33,
     "metadata": {},
     "output_type": "execute_result"
    }
   ],
   "source": [
    "x_train[100]"
   ]
  },
  {
   "cell_type": "code",
   "execution_count": 34,
   "id": "532c99b6-0d81-43ee-a2cb-1999e7eb2105",
   "metadata": {},
   "outputs": [],
   "source": [
    "num_classes=10\n",
    "y_train=keras.utils.to_categorical(y_train,num_classes)\n",
    "y_test=keras.utils.to_categorical(y_test,num_classes)"
   ]
  },
  {
   "cell_type": "code",
   "execution_count": 35,
   "id": "f00a546f-8393-4a8d-a312-1aa604d5e55d",
   "metadata": {},
   "outputs": [
    {
     "data": {
      "text/plain": [
       "array([0., 0., 0., 0., 0., 0., 0., 0., 1., 0.], dtype=float32)"
      ]
     },
     "execution_count": 35,
     "metadata": {},
     "output_type": "execute_result"
    }
   ],
   "source": [
    "y_train[0]  #doğru etiketi 1 yapıyor, diğerlerini 0 yapıyor"
   ]
  },
  {
   "cell_type": "code",
   "execution_count": 36,
   "id": "4b787d4a-d045-44be-9c5c-b9a960c9e558",
   "metadata": {},
   "outputs": [
    {
     "data": {
      "text/plain": [
       "(28, 28)"
      ]
     },
     "execution_count": 36,
     "metadata": {},
     "output_type": "execute_result"
    }
   ],
   "source": [
    "x_train.shape[1:]"
   ]
  },
  {
   "cell_type": "code",
   "execution_count": 37,
   "id": "aebdd9d0-428e-43fc-9029-fe2ff6b1d8a1",
   "metadata": {},
   "outputs": [
    {
     "data": {
      "text/plain": [
       "(28, 28)"
      ]
     },
     "execution_count": 37,
     "metadata": {},
     "output_type": "execute_result"
    }
   ],
   "source": [
    "x_train[0].shape"
   ]
  },
  {
   "cell_type": "code",
   "execution_count": 38,
   "id": "73075ebe-b038-4570-8b35-4451d7e8b34e",
   "metadata": {},
   "outputs": [
    {
     "ename": "ValueError",
     "evalue": "Input 0 of layer \"conv2d\" is incompatible with the layer: expected min_ndim=4, found ndim=3. Full shape received: (None, 28, 28)",
     "output_type": "error",
     "traceback": [
      "\u001b[1;31m---------------------------------------------------------------------------\u001b[0m",
      "\u001b[1;31mValueError\u001b[0m                                Traceback (most recent call last)",
      "Cell \u001b[1;32mIn[38], line 5\u001b[0m\n\u001b[0;32m      1\u001b[0m \u001b[38;5;66;03m# CNN MODEL\u001b[39;00m\n\u001b[0;32m      3\u001b[0m model\u001b[38;5;241m=\u001b[39mSequential()\n\u001b[1;32m----> 5\u001b[0m \u001b[43mmodel\u001b[49m\u001b[38;5;241;43m.\u001b[39;49m\u001b[43madd\u001b[49m\u001b[43m(\u001b[49m\u001b[43mConv2D\u001b[49m\u001b[43m(\u001b[49m\u001b[38;5;241;43m32\u001b[39;49m\u001b[43m,\u001b[49m\u001b[43m(\u001b[49m\u001b[38;5;241;43m3\u001b[39;49m\u001b[43m,\u001b[49m\u001b[38;5;241;43m3\u001b[39;49m\u001b[43m)\u001b[49m\u001b[43m,\u001b[49m\u001b[43mactivation\u001b[49m\u001b[38;5;241;43m=\u001b[39;49m\u001b[38;5;124;43m\"\u001b[39;49m\u001b[38;5;124;43mrelu\u001b[39;49m\u001b[38;5;124;43m\"\u001b[39;49m\u001b[43m,\u001b[49m\u001b[43mpadding\u001b[49m\u001b[38;5;241;43m=\u001b[39;49m\u001b[38;5;124;43m\"\u001b[39;49m\u001b[38;5;124;43msame\u001b[39;49m\u001b[38;5;124;43m\"\u001b[39;49m\u001b[43m,\u001b[49m\u001b[43minput_shape\u001b[49m\u001b[38;5;241;43m=\u001b[39;49m\u001b[43mx_train\u001b[49m\u001b[38;5;241;43m.\u001b[39;49m\u001b[43mshape\u001b[49m\u001b[43m[\u001b[49m\u001b[38;5;241;43m1\u001b[39;49m\u001b[43m:\u001b[49m\u001b[43m]\u001b[49m\u001b[43m)\u001b[49m\u001b[43m)\u001b[49m \u001b[38;5;66;03m#3x3 lük filtre uygular\u001b[39;00m\n\u001b[0;32m      6\u001b[0m \u001b[38;5;66;03m#relu: negatif değerleri 0 yapar, pozitif kısımları korur\u001b[39;00m\n\u001b[0;32m      7\u001b[0m \u001b[38;5;66;03m#padding: çıktı boyutunun giriş boyutuna benzerliği sağlar\u001b[39;00m\n\u001b[0;32m      8\u001b[0m \n\u001b[0;32m      9\u001b[0m \u001b[38;5;66;03m#giriş kanal sayısı:3\u001b[39;00m\n\u001b[0;32m     10\u001b[0m \u001b[38;5;66;03m#çıkış kanal sayısı:3\u001b[39;00m\n\u001b[0;32m     11\u001b[0m \u001b[38;5;66;03m#her bir filtre için toplam parametre sayısı: 3x3x3 + 1 (bias)=28\u001b[39;00m\n\u001b[0;32m     13\u001b[0m model\u001b[38;5;241m.\u001b[39madd(Conv2D(\u001b[38;5;241m32\u001b[39m,(\u001b[38;5;241m3\u001b[39m,\u001b[38;5;241m3\u001b[39m),activation\u001b[38;5;241m=\u001b[39m\u001b[38;5;124m\"\u001b[39m\u001b[38;5;124mrelu\u001b[39m\u001b[38;5;124m\"\u001b[39m))\n",
      "File \u001b[1;32m~\\miniconda3\\lib\\site-packages\\tensorflow\\python\\trackable\\base.py:205\u001b[0m, in \u001b[0;36mno_automatic_dependency_tracking.<locals>._method_wrapper\u001b[1;34m(self, *args, **kwargs)\u001b[0m\n\u001b[0;32m    203\u001b[0m \u001b[38;5;28mself\u001b[39m\u001b[38;5;241m.\u001b[39m_self_setattr_tracking \u001b[38;5;241m=\u001b[39m \u001b[38;5;28;01mFalse\u001b[39;00m  \u001b[38;5;66;03m# pylint: disable=protected-access\u001b[39;00m\n\u001b[0;32m    204\u001b[0m \u001b[38;5;28;01mtry\u001b[39;00m:\n\u001b[1;32m--> 205\u001b[0m   result \u001b[38;5;241m=\u001b[39m method(\u001b[38;5;28mself\u001b[39m, \u001b[38;5;241m*\u001b[39margs, \u001b[38;5;241m*\u001b[39m\u001b[38;5;241m*\u001b[39mkwargs)\n\u001b[0;32m    206\u001b[0m \u001b[38;5;28;01mfinally\u001b[39;00m:\n\u001b[0;32m    207\u001b[0m   \u001b[38;5;28mself\u001b[39m\u001b[38;5;241m.\u001b[39m_self_setattr_tracking \u001b[38;5;241m=\u001b[39m previous_value  \u001b[38;5;66;03m# pylint: disable=protected-access\u001b[39;00m\n",
      "File \u001b[1;32m~\\miniconda3\\lib\\site-packages\\keras\\utils\\traceback_utils.py:70\u001b[0m, in \u001b[0;36mfilter_traceback.<locals>.error_handler\u001b[1;34m(*args, **kwargs)\u001b[0m\n\u001b[0;32m     67\u001b[0m     filtered_tb \u001b[38;5;241m=\u001b[39m _process_traceback_frames(e\u001b[38;5;241m.\u001b[39m__traceback__)\n\u001b[0;32m     68\u001b[0m     \u001b[38;5;66;03m# To get the full stack trace, call:\u001b[39;00m\n\u001b[0;32m     69\u001b[0m     \u001b[38;5;66;03m# `tf.debugging.disable_traceback_filtering()`\u001b[39;00m\n\u001b[1;32m---> 70\u001b[0m     \u001b[38;5;28;01mraise\u001b[39;00m e\u001b[38;5;241m.\u001b[39mwith_traceback(filtered_tb) \u001b[38;5;28;01mfrom\u001b[39;00m \u001b[38;5;28;01mNone\u001b[39;00m\n\u001b[0;32m     71\u001b[0m \u001b[38;5;28;01mfinally\u001b[39;00m:\n\u001b[0;32m     72\u001b[0m     \u001b[38;5;28;01mdel\u001b[39;00m filtered_tb\n",
      "File \u001b[1;32m~\\miniconda3\\lib\\site-packages\\keras\\engine\\input_spec.py:253\u001b[0m, in \u001b[0;36massert_input_compatibility\u001b[1;34m(input_spec, inputs, layer_name)\u001b[0m\n\u001b[0;32m    251\u001b[0m     ndim \u001b[38;5;241m=\u001b[39m x\u001b[38;5;241m.\u001b[39mshape\u001b[38;5;241m.\u001b[39mrank\n\u001b[0;32m    252\u001b[0m     \u001b[38;5;28;01mif\u001b[39;00m ndim \u001b[38;5;129;01mis\u001b[39;00m \u001b[38;5;129;01mnot\u001b[39;00m \u001b[38;5;28;01mNone\u001b[39;00m \u001b[38;5;129;01mand\u001b[39;00m ndim \u001b[38;5;241m<\u001b[39m spec\u001b[38;5;241m.\u001b[39mmin_ndim:\n\u001b[1;32m--> 253\u001b[0m         \u001b[38;5;28;01mraise\u001b[39;00m \u001b[38;5;167;01mValueError\u001b[39;00m(\n\u001b[0;32m    254\u001b[0m             \u001b[38;5;124mf\u001b[39m\u001b[38;5;124m'\u001b[39m\u001b[38;5;124mInput \u001b[39m\u001b[38;5;132;01m{\u001b[39;00minput_index\u001b[38;5;132;01m}\u001b[39;00m\u001b[38;5;124m of layer \u001b[39m\u001b[38;5;124m\"\u001b[39m\u001b[38;5;132;01m{\u001b[39;00mlayer_name\u001b[38;5;132;01m}\u001b[39;00m\u001b[38;5;124m\"\u001b[39m\u001b[38;5;124m \u001b[39m\u001b[38;5;124m'\u001b[39m\n\u001b[0;32m    255\u001b[0m             \u001b[38;5;124m\"\u001b[39m\u001b[38;5;124mis incompatible with the layer: \u001b[39m\u001b[38;5;124m\"\u001b[39m\n\u001b[0;32m    256\u001b[0m             \u001b[38;5;124mf\u001b[39m\u001b[38;5;124m\"\u001b[39m\u001b[38;5;124mexpected min_ndim=\u001b[39m\u001b[38;5;132;01m{\u001b[39;00mspec\u001b[38;5;241m.\u001b[39mmin_ndim\u001b[38;5;132;01m}\u001b[39;00m\u001b[38;5;124m, \u001b[39m\u001b[38;5;124m\"\u001b[39m\n\u001b[0;32m    257\u001b[0m             \u001b[38;5;124mf\u001b[39m\u001b[38;5;124m\"\u001b[39m\u001b[38;5;124mfound ndim=\u001b[39m\u001b[38;5;132;01m{\u001b[39;00mndim\u001b[38;5;132;01m}\u001b[39;00m\u001b[38;5;124m. \u001b[39m\u001b[38;5;124m\"\u001b[39m\n\u001b[0;32m    258\u001b[0m             \u001b[38;5;124mf\u001b[39m\u001b[38;5;124m\"\u001b[39m\u001b[38;5;124mFull shape received: \u001b[39m\u001b[38;5;132;01m{\u001b[39;00m\u001b[38;5;28mtuple\u001b[39m(shape)\u001b[38;5;132;01m}\u001b[39;00m\u001b[38;5;124m\"\u001b[39m\n\u001b[0;32m    259\u001b[0m         )\n\u001b[0;32m    260\u001b[0m \u001b[38;5;66;03m# Check dtype.\u001b[39;00m\n\u001b[0;32m    261\u001b[0m \u001b[38;5;28;01mif\u001b[39;00m spec\u001b[38;5;241m.\u001b[39mdtype \u001b[38;5;129;01mis\u001b[39;00m \u001b[38;5;129;01mnot\u001b[39;00m \u001b[38;5;28;01mNone\u001b[39;00m:\n",
      "\u001b[1;31mValueError\u001b[0m: Input 0 of layer \"conv2d\" is incompatible with the layer: expected min_ndim=4, found ndim=3. Full shape received: (None, 28, 28)"
     ]
    }
   ],
   "source": [
    "# CNN MODEL\n",
    "\n",
    "model=Sequential()\n",
    "\n",
    "model.add(Conv2D(32,(3,3),activation=\"relu\",padding=\"same\",input_shape=x_train.shape[1:])) #3x3 lük filtre uygular\n",
    "#relu: negatif değerleri 0 yapar, pozitif kısımları korur\n",
    "#padding: çıktı boyutunun giriş boyutuna benzerliği sağlar\n",
    "\n",
    "#giriş kanal sayısı:3\n",
    "#çıkış kanal sayısı:3\n",
    "#her bir filtre için toplam parametre sayısı: 3x3x3 + 1 (bias)=28\n",
    "\n",
    "model.add(Conv2D(32,(3,3),activation=\"relu\"))\n",
    "\n",
    "#filtre: 3x3\n",
    "#giriş kanal sayısı:32\n",
    "#çıkış kanal sayısı:32\n",
    "#her bir filtre için toplam parametre sayısı: (3x3x32) + 1 (bias)=289\n",
    "#genel toplam paremetre: 289x32 = 9248\n",
    "\n",
    "model.add(MaxPooling2D(pool_size=(2,2))) #belirli bir bölgedeki en büyük değeri alır\n",
    "\n",
    "model.add(Conv2D(64,(3,3),activation=\"relu\",padding=\"same\"))\n",
    "model.add(Conv2D(64,(3,3),activation=\"relu\"))\n",
    "\n",
    "model.add(MaxPooling2D(pool_size=(2,2)))\n",
    "\n",
    "model.add(Flatten())\n",
    "\n",
    "model.add(Dense(512,activation=\"relu\"))\n",
    "model.add(Dense(num_classes,activation=\"softmax\")) #softmax ile elemanların olasılık değerlerini döndürür"
   ]
  },
  {
   "cell_type": "code",
   "execution_count": 39,
   "id": "c5ddb867-da98-4021-b63b-e6a8d912c919",
   "metadata": {},
   "outputs": [],
   "source": [
    "#modelin derlenmesi\n",
    "\n",
    "model.compile(loss='categorical_crossentropy', optimizer=\"adam\", metrics=[\"accuracy\"])"
   ]
  },
  {
   "cell_type": "code",
   "execution_count": 40,
   "id": "46b84f74-70f5-498b-ae5c-87024f57b43f",
   "metadata": {},
   "outputs": [
    {
     "ename": "ValueError",
     "evalue": "This model has not yet been built. Build the model first by calling `build()` or by calling the model on a batch of data.",
     "output_type": "error",
     "traceback": [
      "\u001b[1;31m---------------------------------------------------------------------------\u001b[0m",
      "\u001b[1;31mValueError\u001b[0m                                Traceback (most recent call last)",
      "Cell \u001b[1;32mIn[40], line 1\u001b[0m\n\u001b[1;32m----> 1\u001b[0m \u001b[43mmodel\u001b[49m\u001b[38;5;241;43m.\u001b[39;49m\u001b[43msummary\u001b[49m\u001b[43m(\u001b[49m\u001b[43m)\u001b[49m\n",
      "File \u001b[1;32m~\\miniconda3\\lib\\site-packages\\keras\\engine\\training.py:3229\u001b[0m, in \u001b[0;36mModel.summary\u001b[1;34m(self, line_length, positions, print_fn, expand_nested, show_trainable, layer_range)\u001b[0m\n\u001b[0;32m   3198\u001b[0m \u001b[38;5;250m\u001b[39m\u001b[38;5;124;03m\"\"\"Prints a string summary of the network.\u001b[39;00m\n\u001b[0;32m   3199\u001b[0m \n\u001b[0;32m   3200\u001b[0m \u001b[38;5;124;03mArgs:\u001b[39;00m\n\u001b[1;32m   (...)\u001b[0m\n\u001b[0;32m   3226\u001b[0m \u001b[38;5;124;03m    ValueError: if `summary()` is called before the model is built.\u001b[39;00m\n\u001b[0;32m   3227\u001b[0m \u001b[38;5;124;03m\"\"\"\u001b[39;00m\n\u001b[0;32m   3228\u001b[0m \u001b[38;5;28;01mif\u001b[39;00m \u001b[38;5;129;01mnot\u001b[39;00m \u001b[38;5;28mself\u001b[39m\u001b[38;5;241m.\u001b[39mbuilt:\n\u001b[1;32m-> 3229\u001b[0m     \u001b[38;5;28;01mraise\u001b[39;00m \u001b[38;5;167;01mValueError\u001b[39;00m(\n\u001b[0;32m   3230\u001b[0m         \u001b[38;5;124m\"\u001b[39m\u001b[38;5;124mThis model has not yet been built. \u001b[39m\u001b[38;5;124m\"\u001b[39m\n\u001b[0;32m   3231\u001b[0m         \u001b[38;5;124m\"\u001b[39m\u001b[38;5;124mBuild the model first by calling `build()` or by calling \u001b[39m\u001b[38;5;124m\"\u001b[39m\n\u001b[0;32m   3232\u001b[0m         \u001b[38;5;124m\"\u001b[39m\u001b[38;5;124mthe model on a batch of data.\u001b[39m\u001b[38;5;124m\"\u001b[39m\n\u001b[0;32m   3233\u001b[0m     )\n\u001b[0;32m   3234\u001b[0m layer_utils\u001b[38;5;241m.\u001b[39mprint_summary(\n\u001b[0;32m   3235\u001b[0m     \u001b[38;5;28mself\u001b[39m,\n\u001b[0;32m   3236\u001b[0m     line_length\u001b[38;5;241m=\u001b[39mline_length,\n\u001b[1;32m   (...)\u001b[0m\n\u001b[0;32m   3241\u001b[0m     layer_range\u001b[38;5;241m=\u001b[39mlayer_range,\n\u001b[0;32m   3242\u001b[0m )\n",
      "\u001b[1;31mValueError\u001b[0m: This model has not yet been built. Build the model first by calling `build()` or by calling the model on a batch of data."
     ]
    }
   ],
   "source": [
    "model.summary()"
   ]
  },
  {
   "cell_type": "code",
   "execution_count": null,
   "id": "d8742183-843f-4fd3-b717-1dd690958a78",
   "metadata": {},
   "outputs": [],
   "source": [
    "#modeli eğitme \n",
    "\n",
    "batch_size=128\n",
    "epochs=10\n",
    "model.fit(x_train,y_train,batch_size=batch_size,epochs=epochs,validation_data=(x_test,y_test))"
   ]
  },
  {
   "cell_type": "code",
   "execution_count": null,
   "id": "fb8592a2-73a4-433e-ae86-f1518fda98ed",
   "metadata": {},
   "outputs": [],
   "source": [
    "scores=model.evaluate(x_test,y_test,verbose=1)\n",
    "print(\"test loss: \",scores[0])\n",
    "print(\"test accuracy: \",scores[1])"
   ]
  }
 ],
 "metadata": {
  "kernelspec": {
   "display_name": "Python 3 (ipykernel)",
   "language": "python",
   "name": "python3"
  },
  "language_info": {
   "codemirror_mode": {
    "name": "ipython",
    "version": 3
   },
   "file_extension": ".py",
   "mimetype": "text/x-python",
   "name": "python",
   "nbconvert_exporter": "python",
   "pygments_lexer": "ipython3",
   "version": "3.10.10"
  }
 },
 "nbformat": 4,
 "nbformat_minor": 5
}
