{
 "cells": [
  {
   "cell_type": "code",
   "execution_count": 1,
   "id": "715b817b-1245-41bd-aeaf-5c9b3ffc8f1e",
   "metadata": {},
   "outputs": [],
   "source": [
    "from mediapipe import solutions \n",
    "from mediapipe.framework.formats import landmark_pb2 \n",
    "import numpy as np\n",
    "import cv2\n",
    "import matplotlib.pyplot as plt\n",
    "import mediapipe as mp\n",
    "from mediapipe.tasks import python\n",
    "from mediapipe.tasks.python import vision"
   ]
  },
  {
   "cell_type": "code",
   "execution_count": 2,
   "id": "6053ac7f-c6c7-4d1c-bc4b-b2f409d03ac5",
   "metadata": {},
   "outputs": [],
   "source": [
    "def draw_landmarks_on_image(rgb_image, detection_result):\n",
    "    hand_landmarks_list=detection_result. hand_landmarks \n",
    "    handedness_list=detection_result.handedness \n",
    "    annotated_image= np.copy(rgb_image) \n",
    "\n",
    "    for idx in range(len(hand_landmarks_list)):\n",
    "        hand_landmarks=hand_landmarks_list[idx] \n",
    "        handedness=handedness_list[idx] \n",
    "\n",
    "        hand_landmarks_proto=landmark_pb2.NormalizedLandmarkList() \n",
    "        hand_landmarks_proto.landmark.extend([landmark_pb2.NormalizedLandmark(x=landmark.x, y=landmark.y, z=landmark.z) for landmark in hand_landmarks])\n",
    "        solutions.drawing_utils.draw_landmarks( \n",
    "            annotated_image,\n",
    "            hand_landmarks_proto,\n",
    "            solutions.hands.HAND_CONNECTIONS,\n",
    "            solutions.drawing_styles.get_default_hand_landmarks_style(),\n",
    "            solutions.drawing_styles.get_default_hand_connections_style()) \n",
    "        \n",
    "        height, width, _=annotated_image.shape\n",
    "        x_coordinates = [landmark.x for landmark in hand_landmarks]\n",
    "        y_coordinates = [landmark.y for landmark in hand_landmarks]\n",
    "        text_x=int(min(x_coordinates*width))\n",
    "        text_y=int(min(y_coordinates*height))-MARGIN\n",
    "\n",
    "        cv2.putText(annotated_image,f\"{handedness[0].category_name}\", (text_x,text_y), cv2.FONT_HERSHEY_DUPLEX, FONT_SIZE, HANDEDNESS_TEXT_COLOR, FONT_THICKNESS,cv2.LINE_AA)\n",
    "\n",
    "    return annotated_image"
   ]
  },
  {
   "cell_type": "code",
   "execution_count": 3,
   "id": "9672c52d-3c49-4e26-865f-5f6142de36cc",
   "metadata": {},
   "outputs": [],
   "source": [
    "image = cv2.imread(\"data/el_tespiti_1.jpg\")"
   ]
  },
  {
   "cell_type": "code",
   "execution_count": 4,
   "id": "d0713458-e879-4de0-b24e-7e63cb9f5f07",
   "metadata": {},
   "outputs": [],
   "source": [
    "image=cv2.cvtColor(image,cv2.COLOR_BGR2RGB)"
   ]
  },
  {
   "cell_type": "code",
   "execution_count": 5,
   "id": "f9883a98-2780-41e3-97df-68a30bb977e8",
   "metadata": {},
   "outputs": [],
   "source": [
    "image=cv2.resize(image,(640,960))"
   ]
  },
  {
   "cell_type": "code",
   "execution_count": 6,
   "id": "a9162c8a-a39f-4649-8a62-c4726c6ec9ef",
   "metadata": {},
   "outputs": [],
   "source": [
    "image=cv2.blur(image,(10,10))"
   ]
  },
  {
   "cell_type": "code",
   "execution_count": null,
   "id": "8425e736-68a9-4b2d-a685-d535a9b0128d",
   "metadata": {},
   "outputs": [],
   "source": [
    "plt.figure()\n",
    "plt.imshow(bfr, cmap=\"gray\")"
   ]
  }
 ],
 "metadata": {
  "kernelspec": {
   "display_name": "Python 3 (ipykernel)",
   "language": "python",
   "name": "python3"
  },
  "language_info": {
   "codemirror_mode": {
    "name": "ipython",
    "version": 3
   },
   "file_extension": ".py",
   "mimetype": "text/x-python",
   "name": "python",
   "nbconvert_exporter": "python",
   "pygments_lexer": "ipython3",
   "version": "3.10.10"
  }
 },
 "nbformat": 4,
 "nbformat_minor": 5
}
