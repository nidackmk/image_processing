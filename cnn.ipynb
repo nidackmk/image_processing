{
 "cells": [
  {
   "cell_type": "code",
   "execution_count": 2,
   "id": "eff0fe63-7f5f-4868-84d7-a32b09c7590a",
   "metadata": {},
   "outputs": [],
   "source": [
    "import tensorflow.keras as keras\n",
    "from tensorflow.keras.datasets import cifar10 #veri kümesi\n",
    "\n",
    "from sklearn.model_selection import train_test_split #veri kümesini böler\n",
    "from tensorflow.keras.models import Sequential #yapay sinir ağı modeli\n",
    "#giriş katmanından başlayarak sıralı olarak birbirini takip eden katmanlar eklenir ve çıktı katmanına kadar devam eder\n",
    "\n",
    "from tensorflow.keras.layers import Conv2D #2 boyutlu veriler üzerinde evrişim işlemi gerçekleştirir\n",
    "from tensorflow.keras.layers import MaxPooling2D #önemli özellikleri korumak için kullanılır\n",
    "from tensorflow.keras.layers import Flatten #tek boyutlu veriye dönüştürür\n",
    "from tensorflow.keras.layers import Dense #full connected bağlantıları temsil edilir\n",
    "\n",
    "#çıktı aktivasyon fonksiyonumuz. (sigmoid,softmax vb.)\n",
    "\n",
    "import matplotlib.pyplot as plt\n",
    "import numpy as np"
   ]
  },
  {
   "cell_type": "code",
   "execution_count": 3,
   "id": "a8ef0784-851f-4674-a86a-0f861c3b5f14",
   "metadata": {},
   "outputs": [
    {
     "name": "stdout",
     "output_type": "stream",
     "text": [
      "Downloading data from https://www.cs.toronto.edu/~kriz/cifar-10-python.tar.gz\n",
      "170498071/170498071 [==============================] - 184s 1us/step\n"
     ]
    }
   ],
   "source": [
    "# CIFAR-10 veri kümesini okuma\n",
    "\n",
    "(x_train,y_train),(x_test,y_test)=cifar10.load_data()"
   ]
  },
  {
   "cell_type": "code",
   "execution_count": 4,
   "id": "9c3852a3-1585-4cd6-a429-bfa17b3affa6",
   "metadata": {},
   "outputs": [
    {
     "data": {
      "text/plain": [
       "50000"
      ]
     },
     "execution_count": 4,
     "metadata": {},
     "output_type": "execute_result"
    }
   ],
   "source": [
    "len(x_train)"
   ]
  },
  {
   "cell_type": "code",
   "execution_count": 5,
   "id": "922869c9-4ec7-4069-98ff-1a80493ec83a",
   "metadata": {},
   "outputs": [
    {
     "data": {
      "text/plain": [
       "(50000, 32, 32, 3)"
      ]
     },
     "execution_count": 5,
     "metadata": {},
     "output_type": "execute_result"
    }
   ],
   "source": [
    "x_train.shape"
   ]
  },
  {
   "cell_type": "code",
   "execution_count": 7,
   "id": "4219d995-4f54-4567-a60b-8e26939015f4",
   "metadata": {},
   "outputs": [
    {
     "data": {
      "text/plain": [
       "array([[[ 59,  62,  63],\n",
       "        [ 43,  46,  45],\n",
       "        [ 50,  48,  43],\n",
       "        ...,\n",
       "        [158, 132, 108],\n",
       "        [152, 125, 102],\n",
       "        [148, 124, 103]],\n",
       "\n",
       "       [[ 16,  20,  20],\n",
       "        [  0,   0,   0],\n",
       "        [ 18,   8,   0],\n",
       "        ...,\n",
       "        [123,  88,  55],\n",
       "        [119,  83,  50],\n",
       "        [122,  87,  57]],\n",
       "\n",
       "       [[ 25,  24,  21],\n",
       "        [ 16,   7,   0],\n",
       "        [ 49,  27,   8],\n",
       "        ...,\n",
       "        [118,  84,  50],\n",
       "        [120,  84,  50],\n",
       "        [109,  73,  42]],\n",
       "\n",
       "       ...,\n",
       "\n",
       "       [[208, 170,  96],\n",
       "        [201, 153,  34],\n",
       "        [198, 161,  26],\n",
       "        ...,\n",
       "        [160, 133,  70],\n",
       "        [ 56,  31,   7],\n",
       "        [ 53,  34,  20]],\n",
       "\n",
       "       [[180, 139,  96],\n",
       "        [173, 123,  42],\n",
       "        [186, 144,  30],\n",
       "        ...,\n",
       "        [184, 148,  94],\n",
       "        [ 97,  62,  34],\n",
       "        [ 83,  53,  34]],\n",
       "\n",
       "       [[177, 144, 116],\n",
       "        [168, 129,  94],\n",
       "        [179, 142,  87],\n",
       "        ...,\n",
       "        [216, 184, 140],\n",
       "        [151, 118,  84],\n",
       "        [123,  92,  72]]], dtype=uint8)"
      ]
     },
     "execution_count": 7,
     "metadata": {},
     "output_type": "execute_result"
    }
   ],
   "source": [
    "x_train[0]"
   ]
  },
  {
   "cell_type": "code",
   "execution_count": 8,
   "id": "0594b448-2a6c-4722-88c5-c245ccb6522a",
   "metadata": {},
   "outputs": [
    {
     "data": {
      "text/plain": [
       "50000"
      ]
     },
     "execution_count": 8,
     "metadata": {},
     "output_type": "execute_result"
    }
   ],
   "source": [
    "len(y_train)"
   ]
  },
  {
   "cell_type": "code",
   "execution_count": 9,
   "id": "0a8c82ee-48e6-44ef-8bec-a78c06d825fc",
   "metadata": {},
   "outputs": [
    {
     "data": {
      "text/plain": [
       "array([6], dtype=uint8)"
      ]
     },
     "execution_count": 9,
     "metadata": {},
     "output_type": "execute_result"
    }
   ],
   "source": [
    "y_train[0]"
   ]
  },
  {
   "cell_type": "code",
   "execution_count": 10,
   "id": "f60837a3-9b8a-47f6-aca3-534f44205cfe",
   "metadata": {},
   "outputs": [
    {
     "data": {
      "text/plain": [
       "array([1], dtype=uint8)"
      ]
     },
     "execution_count": 10,
     "metadata": {},
     "output_type": "execute_result"
    }
   ],
   "source": [
    "y_train[5]"
   ]
  },
  {
   "cell_type": "code",
   "execution_count": 11,
   "id": "2caf1ac2-50e2-466e-a50c-7b02a1b4bb86",
   "metadata": {},
   "outputs": [
    {
     "data": {
      "text/plain": [
       "10000"
      ]
     },
     "execution_count": 11,
     "metadata": {},
     "output_type": "execute_result"
    }
   ],
   "source": [
    "len(x_test)"
   ]
  },
  {
   "cell_type": "code",
   "execution_count": 12,
   "id": "c33df7c3-c30b-4bf5-b832-fd263d639580",
   "metadata": {},
   "outputs": [
    {
     "data": {
      "text/plain": [
       "array([[[158, 112,  49],\n",
       "        [159, 111,  47],\n",
       "        [165, 116,  51],\n",
       "        ...,\n",
       "        [137,  95,  36],\n",
       "        [126,  91,  36],\n",
       "        [116,  85,  33]],\n",
       "\n",
       "       [[152, 112,  51],\n",
       "        [151, 110,  40],\n",
       "        [159, 114,  45],\n",
       "        ...,\n",
       "        [136,  95,  31],\n",
       "        [125,  91,  32],\n",
       "        [119,  88,  34]],\n",
       "\n",
       "       [[151, 110,  47],\n",
       "        [151, 109,  33],\n",
       "        [158, 111,  36],\n",
       "        ...,\n",
       "        [139,  98,  34],\n",
       "        [130,  95,  34],\n",
       "        [120,  89,  33]],\n",
       "\n",
       "       ...,\n",
       "\n",
       "       [[ 68, 124, 177],\n",
       "        [ 42, 100, 148],\n",
       "        [ 31,  88, 137],\n",
       "        ...,\n",
       "        [ 38,  97, 146],\n",
       "        [ 13,  64, 108],\n",
       "        [ 40,  85, 127]],\n",
       "\n",
       "       [[ 61, 116, 168],\n",
       "        [ 49, 102, 148],\n",
       "        [ 35,  85, 132],\n",
       "        ...,\n",
       "        [ 26,  82, 130],\n",
       "        [ 29,  82, 126],\n",
       "        [ 20,  64, 107]],\n",
       "\n",
       "       [[ 54, 107, 160],\n",
       "        [ 56, 105, 149],\n",
       "        [ 45,  89, 132],\n",
       "        ...,\n",
       "        [ 24,  77, 124],\n",
       "        [ 34,  84, 129],\n",
       "        [ 21,  67, 110]]], dtype=uint8)"
      ]
     },
     "execution_count": 12,
     "metadata": {},
     "output_type": "execute_result"
    }
   ],
   "source": [
    "x_test[0]"
   ]
  },
  {
   "cell_type": "code",
   "execution_count": 13,
   "id": "38ba64e3-ae2b-4137-9061-b0941b321ef8",
   "metadata": {},
   "outputs": [
    {
     "data": {
      "text/plain": [
       "10000"
      ]
     },
     "execution_count": 13,
     "metadata": {},
     "output_type": "execute_result"
    }
   ],
   "source": [
    "len(y_test)"
   ]
  },
  {
   "cell_type": "code",
   "execution_count": 14,
   "id": "e8c5ca7d-eac6-4b3d-b3ca-c3efc0dd104e",
   "metadata": {},
   "outputs": [
    {
     "data": {
      "text/plain": [
       "array([3], dtype=uint8)"
      ]
     },
     "execution_count": 14,
     "metadata": {},
     "output_type": "execute_result"
    }
   ],
   "source": [
    "y_test[0]"
   ]
  },
  {
   "cell_type": "code",
   "execution_count": 15,
   "id": "272f44e9-6833-4395-985e-b334b8cfd88b",
   "metadata": {},
   "outputs": [
    {
     "data": {
      "text/plain": [
       "array([6], dtype=uint8)"
      ]
     },
     "execution_count": 15,
     "metadata": {},
     "output_type": "execute_result"
    }
   ],
   "source": [
    "y_train[0]"
   ]
  },
  {
   "cell_type": "code",
   "execution_count": 17,
   "id": "430e1aa3-5f7e-462e-8927-678c35ffa75c",
   "metadata": {},
   "outputs": [
    {
     "data": {
      "image/png": "[encoded data removed]",
      "text/plain": [
       "<Figure size 640x480 with 1 Axes>"
      ]
     },
     "metadata": {},
     "output_type": "display_data"
    },
    {
     "data": {
      "image/png": "[encoded data removed]",
      "text/plain": [
       "<Figure size 640x480 with 1 Axes>"
      ]
     },
     "metadata": {},
     "output_type": "display_data"
    },
    {
     "data": {
      "image/png": "[encoded data removed]",
      "text/plain": [
       "<Figure size 640x480 with 1 Axes>"
      ]
     },
     "metadata": {},
     "output_type": "display_data"
    },
    {
     "data": {
      "image/png": "[encoded data removed]",
      "text/plain": [
       "<Figure size 640x480 with 1 Axes>"
      ]
     },
     "metadata": {},
     "output_type": "display_data"
    },
    {
     "data": {
      "image/png": "[encoded data removed]",
      "text/plain": [
       "<Figure size 640x480 with 1 Axes>"
      ]
     },
     "metadata": {},
     "output_type": "display_data"
    }
   ],
   "source": [
    "#veri setinden örnek resim gösterme\n",
    "\n",
    "for i in range(5):\n",
    "    plt.imshow(x_test[i])\n",
    "    plt.title(\"Sınıf: \"+str(y_test[i][0]))\n",
    "    plt.axis(\"off\")\n",
    "    plt.show()"
   ]
  },
  {
   "cell_type": "code",
   "execution_count": 18,
   "id": "a96e8ed5-12fd-429c-ac5c-76660bba85e4",
   "metadata": {},
   "outputs": [],
   "source": [
    "#eğitim ve test verilerinin birleştirilmesi\n",
    "\n",
    "x_data=np.concatenate((x_train,x_test),axis=0)\n",
    "y_data=np.concatenate((y_train,y_test),axis=0)"
   ]
  },
  {
   "cell_type": "code",
   "execution_count": 19,
   "id": "8f0f6fdb-320c-425e-9b21-19991828f1aa",
   "metadata": {},
   "outputs": [
    {
     "data": {
      "text/plain": [
       "60000"
      ]
     },
     "execution_count": 19,
     "metadata": {},
     "output_type": "execute_result"
    }
   ],
   "source": [
    "len(x_data)"
   ]
  },
  {
   "cell_type": "code",
   "execution_count": 20,
   "id": "580ea9ba-dffa-4c18-aeec-476ed4b15491",
   "metadata": {},
   "outputs": [
    {
     "data": {
      "text/plain": [
       "60000"
      ]
     },
     "execution_count": 20,
     "metadata": {},
     "output_type": "execute_result"
    }
   ],
   "source": [
    "len(y_data)"
   ]
  },
  {
   "cell_type": "code",
   "execution_count": 21,
   "id": "dd476343-d9cd-4ba5-980d-e589e5db1c1f",
   "metadata": {},
   "outputs": [
    {
     "data": {
      "text/plain": [
       "array([[[213, 229, 242],\n",
       "        [211, 227, 240],\n",
       "        [211, 227, 240],\n",
       "        ...,\n",
       "        [151, 174, 206],\n",
       "        [151, 174, 206],\n",
       "        [149, 172, 204]],\n",
       "\n",
       "       [[214, 229, 241],\n",
       "        [212, 227, 239],\n",
       "        [212, 227, 239],\n",
       "        ...,\n",
       "        [152, 175, 207],\n",
       "        [152, 175, 207],\n",
       "        [151, 174, 205]],\n",
       "\n",
       "       [[216, 229, 239],\n",
       "        [214, 227, 237],\n",
       "        [213, 227, 237],\n",
       "        ...,\n",
       "        [153, 176, 206],\n",
       "        [153, 176, 206],\n",
       "        [151, 174, 204]],\n",
       "\n",
       "       ...,\n",
       "\n",
       "       [[145, 159, 165],\n",
       "        [136, 148, 154],\n",
       "        [143, 152, 158],\n",
       "        ...,\n",
       "        [216, 217, 206],\n",
       "        [196, 197, 191],\n",
       "        [183, 183, 182]],\n",
       "\n",
       "       [[139, 153, 159],\n",
       "        [129, 142, 148],\n",
       "        [129, 139, 145],\n",
       "        ...,\n",
       "        [227, 228, 219],\n",
       "        [223, 224, 219],\n",
       "        [209, 209, 209]],\n",
       "\n",
       "       [[137, 152, 157],\n",
       "        [143, 155, 161],\n",
       "        [136, 145, 152],\n",
       "        ...,\n",
       "        [209, 209, 203],\n",
       "        [217, 217, 213],\n",
       "        [228, 228, 226]]], dtype=uint8)"
      ]
     },
     "execution_count": 21,
     "metadata": {},
     "output_type": "execute_result"
    }
   ],
   "source": [
    "x_data[100]"
   ]
  },
  {
   "cell_type": "code",
   "execution_count": 22,
   "id": "3dfcf862-35bb-4e54-acfb-320d5eb00783",
   "metadata": {},
   "outputs": [
    {
     "data": {
      "text/plain": [
       "array([8], dtype=uint8)"
      ]
     },
     "execution_count": 22,
     "metadata": {},
     "output_type": "execute_result"
    }
   ],
   "source": [
    "y_data[100]"
   ]
  },
  {
   "cell_type": "code",
   "execution_count": 23,
   "id": "547ab58f-4a06-401f-9e85-639773fed62a",
   "metadata": {},
   "outputs": [],
   "source": [
    "#eğitim ve test verisi olarak bölme\n",
    "\n",
    "x_train,x_test,y_train,y_test= train_test_split(x_data,y_data,test_size=0.2,random_state=42)"
   ]
  },
  {
   "cell_type": "code",
   "execution_count": 24,
   "id": "0fad4895-3306-494e-b393-71b6bdb9c73f",
   "metadata": {},
   "outputs": [
    {
     "data": {
      "text/plain": [
       "48000"
      ]
     },
     "execution_count": 24,
     "metadata": {},
     "output_type": "execute_result"
    }
   ],
   "source": [
    "len(x_train)"
   ]
  },
  {
   "cell_type": "code",
   "execution_count": 25,
   "id": "7b634d38-50b0-4892-993f-57c9b2842fc0",
   "metadata": {},
   "outputs": [
    {
     "data": {
      "text/plain": [
       "48000"
      ]
     },
     "execution_count": 25,
     "metadata": {},
     "output_type": "execute_result"
    }
   ],
   "source": [
    "len(y_train)"
   ]
  },
  {
   "cell_type": "code",
   "execution_count": 26,
   "id": "2590a160-9930-4afc-8efa-d615510387c9",
   "metadata": {},
   "outputs": [
    {
     "data": {
      "text/plain": [
       "array([[[255, 255, 255],\n",
       "        [255, 255, 255],\n",
       "        [255, 255, 255],\n",
       "        ...,\n",
       "        [255, 255, 255],\n",
       "        [255, 255, 255],\n",
       "        [255, 255, 255]],\n",
       "\n",
       "       [[255, 255, 255],\n",
       "        [254, 254, 254],\n",
       "        [254, 254, 254],\n",
       "        ...,\n",
       "        [254, 254, 254],\n",
       "        [254, 254, 254],\n",
       "        [254, 254, 254]],\n",
       "\n",
       "       [[255, 255, 255],\n",
       "        [255, 255, 255],\n",
       "        [255, 255, 255],\n",
       "        ...,\n",
       "        [255, 255, 255],\n",
       "        [255, 255, 255],\n",
       "        [255, 255, 255]],\n",
       "\n",
       "       ...,\n",
       "\n",
       "       [[255, 255, 255],\n",
       "        [253, 253, 253],\n",
       "        [250, 250, 250],\n",
       "        ...,\n",
       "        [249, 249, 249],\n",
       "        [253, 253, 254],\n",
       "        [255, 255, 255]],\n",
       "\n",
       "       [[255, 255, 255],\n",
       "        [254, 254, 254],\n",
       "        [254, 254, 254],\n",
       "        ...,\n",
       "        [252, 252, 252],\n",
       "        [254, 254, 254],\n",
       "        [255, 255, 255]],\n",
       "\n",
       "       [[255, 255, 255],\n",
       "        [254, 254, 254],\n",
       "        [254, 254, 254],\n",
       "        ...,\n",
       "        [255, 255, 255],\n",
       "        [255, 255, 255],\n",
       "        [255, 255, 255]]], dtype=uint8)"
      ]
     },
     "execution_count": 26,
     "metadata": {},
     "output_type": "execute_result"
    }
   ],
   "source": [
    "x_train[0]"
   ]
  },
  {
   "cell_type": "code",
   "execution_count": 27,
   "id": "55f29484-f9d9-4cbb-b0d7-662ead2e0509",
   "metadata": {},
   "outputs": [
    {
     "data": {
      "text/plain": [
       "array([3], dtype=uint8)"
      ]
     },
     "execution_count": 27,
     "metadata": {},
     "output_type": "execute_result"
    }
   ],
   "source": [
    "y_train[0]"
   ]
  },
  {
   "cell_type": "code",
   "execution_count": 28,
   "id": "63887ab3-5a76-4f06-99e6-35cd5b42ceb9",
   "metadata": {},
   "outputs": [
    {
     "data": {
      "text/plain": [
       "48000.0"
      ]
     },
     "execution_count": 28,
     "metadata": {},
     "output_type": "execute_result"
    }
   ],
   "source": [
    "60000*0.8"
   ]
  },
  {
   "cell_type": "code",
   "execution_count": 29,
   "id": "14806a8d-cbba-4da2-88bd-f62090a719e1",
   "metadata": {},
   "outputs": [
    {
     "data": {
      "text/plain": [
       "12000"
      ]
     },
     "execution_count": 29,
     "metadata": {},
     "output_type": "execute_result"
    }
   ],
   "source": [
    "len(x_test)"
   ]
  },
  {
   "cell_type": "code",
   "execution_count": 30,
   "id": "d7d5034b-8032-4fe3-bab0-ebf0797c31a5",
   "metadata": {},
   "outputs": [
    {
     "data": {
      "text/plain": [
       "12000"
      ]
     },
     "execution_count": 30,
     "metadata": {},
     "output_type": "execute_result"
    }
   ],
   "source": [
    "len(y_test)"
   ]
  },
  {
   "cell_type": "code",
   "execution_count": 31,
   "id": "fe5fe92d-94b5-4d2f-b0a9-45fcff34a464",
   "metadata": {},
   "outputs": [],
   "source": [
    "# verilerin 0-1 arasında normalize edilmesi\n",
    "\n",
    "x_train=x_train.astype('float32')/255.0\n",
    "x_test=x_test.astype('float32')/255.0"
   ]
  },
  {
   "cell_type": "code",
   "execution_count": 32,
   "id": "cd54c1f8-f817-4814-aaf7-dbb824728fc7",
   "metadata": {},
   "outputs": [
    {
     "data": {
      "text/plain": [
       "array([[[0.3254902 , 0.34509805, 0.4       ],\n",
       "        [0.3254902 , 0.34117648, 0.39607844],\n",
       "        [0.34509805, 0.3647059 , 0.41960785],\n",
       "        ...,\n",
       "        [0.6431373 , 0.6392157 , 0.61960787],\n",
       "        [0.6313726 , 0.627451  , 0.60784316],\n",
       "        [0.61960787, 0.61960787, 0.6       ]],\n",
       "\n",
       "       [[0.38039216, 0.38039216, 0.4117647 ],\n",
       "        [0.4       , 0.4       , 0.43137255],\n",
       "        [0.40392157, 0.40392157, 0.4392157 ],\n",
       "        ...,\n",
       "        [0.67058825, 0.654902  , 0.6313726 ],\n",
       "        [0.65882355, 0.6431373 , 0.61960787],\n",
       "        [0.6509804 , 0.63529414, 0.6117647 ]],\n",
       "\n",
       "       [[0.43137255, 0.41568628, 0.42745098],\n",
       "        [0.44705883, 0.43137255, 0.44313726],\n",
       "        [0.45490196, 0.4392157 , 0.45490196],\n",
       "        ...,\n",
       "        [0.7019608 , 0.6666667 , 0.63529414],\n",
       "        [0.6862745 , 0.6509804 , 0.62352943],\n",
       "        [0.6784314 , 0.64705884, 0.6156863 ]],\n",
       "\n",
       "       ...,\n",
       "\n",
       "       [[0.05490196, 0.01568628, 0.01960784],\n",
       "        [0.05098039, 0.00784314, 0.00392157],\n",
       "        [0.06666667, 0.01176471, 0.00392157],\n",
       "        ...,\n",
       "        [0.4509804 , 0.26666668, 0.13725491],\n",
       "        [0.42745098, 0.2509804 , 0.14509805],\n",
       "        [0.3882353 , 0.21960784, 0.12156863]],\n",
       "\n",
       "       [[0.02745098, 0.        , 0.00784314],\n",
       "        [0.03137255, 0.        , 0.        ],\n",
       "        [0.03921569, 0.        , 0.        ],\n",
       "        ...,\n",
       "        [0.43137255, 0.24313726, 0.11372549],\n",
       "        [0.42745098, 0.25882354, 0.14901961],\n",
       "        [0.39215687, 0.23921569, 0.13725491]],\n",
       "\n",
       "       [[0.02745098, 0.00784314, 0.01568628],\n",
       "        [0.03137255, 0.        , 0.00392157],\n",
       "        [0.03921569, 0.00392157, 0.        ],\n",
       "        ...,\n",
       "        [0.39215687, 0.20392157, 0.08235294],\n",
       "        [0.37254903, 0.2       , 0.09019608],\n",
       "        [0.35686275, 0.2       , 0.09411765]]], dtype=float32)"
      ]
     },
     "execution_count": 32,
     "metadata": {},
     "output_type": "execute_result"
    }
   ],
   "source": [
    "x_train[100]"
   ]
  },
  {
   "cell_type": "code",
   "execution_count": 33,
   "id": "d3d131fa-194c-459c-918f-5f11ed7447d9",
   "metadata": {},
   "outputs": [],
   "source": [
    "num_classes=10\n",
    "y_train=keras.utils.to_categorical(y_train,num_classes)\n",
    "y_test=keras.utils.to_categorical(y_test,num_classes)"
   ]
  },
  {
   "cell_type": "code",
   "execution_count": 34,
   "id": "f4c00b7b-cfdf-493c-9020-30a0f6cd5e2f",
   "metadata": {},
   "outputs": [
    {
     "data": {
      "text/plain": [
       "array([0., 0., 0., 1., 0., 0., 0., 0., 0., 0.], dtype=float32)"
      ]
     },
     "execution_count": 34,
     "metadata": {},
     "output_type": "execute_result"
    }
   ],
   "source": [
    "y_train[0]  #doğru etiketi 1 yapıyor, diğerlerini 0 yapıyor"
   ]
  },
  {
   "cell_type": "code",
   "execution_count": 36,
   "id": "167607a7-4c47-4601-8c81-6eebf2eed93a",
   "metadata": {},
   "outputs": [
    {
     "data": {
      "text/plain": [
       "(32, 32, 3)"
      ]
     },
     "execution_count": 36,
     "metadata": {},
     "output_type": "execute_result"
    }
   ],
   "source": [
    "x_train.shape[1:]"
   ]
  },
  {
   "cell_type": "code",
   "execution_count": 37,
   "id": "b43d0784-b1f7-4143-b4f5-13331fb44bce",
   "metadata": {},
   "outputs": [
    {
     "data": {
      "text/plain": [
       "(32, 32, 3)"
      ]
     },
     "execution_count": 37,
     "metadata": {},
     "output_type": "execute_result"
    }
   ],
   "source": [
    "x_train[0].shape"
   ]
  },
  {
   "cell_type": "code",
   "execution_count": 38,
   "id": "6f75cfac-26b9-4731-8fc6-3dbc58e3fe13",
   "metadata": {},
   "outputs": [],
   "source": [
    "# CNN MODEL\n",
    "\n",
    "model=Sequential()\n",
    "\n",
    "model.add(Conv2D(32,(3,3),activation=\"relu\",padding=\"same\",input_shape=x_train.shape[1:])) #3x3 lük filtre uygular\n",
    "#relu: negatif değerleri 0 yapar, pozitif kısımları korur\n",
    "#padding: çıktı boyutunun giriş boyutuna benzerliği sağlar\n",
    "\n",
    "#giriş kanal sayısı:3\n",
    "#çıkış kanal sayısı:3\n",
    "#her bir filtre için toplam parametre sayısı: 3x3x3 + 1 (bias)=28\n",
    "\n",
    "model.add(Conv2D(32,(3,3),activation=\"relu\"))\n",
    "\n",
    "#filtre: 3x3\n",
    "#giriş kanal sayısı:32\n",
    "#çıkış kanal sayısı:32\n",
    "#her bir filtre için toplam parametre sayısı: (3x3x32) + 1 (bias)=289\n",
    "#genel toplam paremetre: 289x32 = 9248\n",
    "\n",
    "model.add(MaxPooling2D(pool_size=(2,2))) #belirli bir bölgedeki en büyük değeri alır\n",
    "\n",
    "model.add(Conv2D(64,(3,3),activation=\"relu\",padding=\"same\"))\n",
    "model.add(Conv2D(64,(3,3),activation=\"relu\"))\n",
    "\n",
    "model.add(MaxPooling2D(pool_size=(2,2)))\n",
    "\n",
    "model.add(Flatten())\n",
    "\n",
    "model.add(Dense(512,activation=\"relu\"))\n",
    "model.add(Dense(num_classes,activation=\"softmax\")) #softmax ile elemanların olasılık değerlerini döndürür"
   ]
  },
  {
   "cell_type": "code",
   "execution_count": 39,
   "id": "0556b0e6-acbb-48e2-96ba-64314f396119",
   "metadata": {},
   "outputs": [],
   "source": [
    "#modelin derlenmesi\n",
    "\n",
    "model.compile(loss='categorical_crossentropy', optimizer=\"adam\", metrics=[\"accuracy\"])"
   ]
  },
  {
   "cell_type": "code",
   "execution_count": 41,
   "id": "bea8b86f-e927-48a1-8f4a-2d7a18c3e5b8",
   "metadata": {},
   "outputs": [
    {
     "name": "stdout",
     "output_type": "stream",
     "text": [
      "Model: \"sequential\"\n",
      "_________________________________________________________________\n",
      " Layer (type)                Output Shape              Param #   \n",
      "=================================================================\n",
      " conv2d (Conv2D)             (None, 32, 32, 32)        896       \n",
      "                                                                 \n",
      " conv2d_1 (Conv2D)           (None, 30, 30, 32)        9248      \n",
      "                                                                 \n",
      " max_pooling2d (MaxPooling2D  (None, 15, 15, 32)       0         \n",
      " )                                                               \n",
      "                                                                 \n",
      " conv2d_2 (Conv2D)           (None, 15, 15, 64)        18496     \n",
      "                                                                 \n",
      " conv2d_3 (Conv2D)           (None, 13, 13, 64)        36928     \n",
      "                                                                 \n",
      " max_pooling2d_1 (MaxPooling  (None, 6, 6, 64)         0         \n",
      " 2D)                                                             \n",
      "                                                                 \n",
      " flatten (Flatten)           (None, 2304)              0         \n",
      "                                                                 \n",
      " dense (Dense)               (None, 512)               1180160   \n",
      "                                                                 \n",
      " dense_1 (Dense)             (None, 10)                5130      \n",
      "                                                                 \n",
      "=================================================================\n",
      "Total params: 1,250,858\n",
      "Trainable params: 1,250,858\n",
      "Non-trainable params: 0\n",
      "_________________________________________________________________\n"
     ]
    }
   ],
   "source": [
    "model.summary()"
   ]
  },
  {
   "cell_type": "code",
   "execution_count": 42,
   "id": "897bca0c-6985-4a36-afae-ce07777735d7",
   "metadata": {},
   "outputs": [
    {
     "data": {
      "text/plain": [
       "2304"
      ]
     },
     "execution_count": 42,
     "metadata": {},
     "output_type": "execute_result"
    }
   ],
   "source": [
    "6*6*64"
   ]
  },
  {
   "cell_type": "code",
   "execution_count": 43,
   "id": "c28e6a18-c03d-4f7d-8e70-21a9b6921875",
   "metadata": {},
   "outputs": [
    {
     "data": {
      "text/plain": [
       "375.0"
      ]
     },
     "execution_count": 43,
     "metadata": {},
     "output_type": "execute_result"
    }
   ],
   "source": [
    "len(x_train)/128"
   ]
  },
  {
   "cell_type": "code",
   "execution_count": 44,
   "id": "728c4610-5b75-4c7f-a317-67dbde1510df",
   "metadata": {},
   "outputs": [
    {
     "name": "stdout",
     "output_type": "stream",
     "text": [
      "Epoch 1/10\n",
      "375/375 [==============================] - 94s 247ms/step - loss: 1.5161 - accuracy: 0.4508 - val_loss: 1.2117 - val_accuracy: 0.5721\n",
      "Epoch 2/10\n",
      "375/375 [==============================] - 92s 244ms/step - loss: 1.0726 - accuracy: 0.6219 - val_loss: 0.9750 - val_accuracy: 0.6544\n",
      "Epoch 3/10\n",
      "375/375 [==============================] - 96s 257ms/step - loss: 0.8643 - accuracy: 0.6975 - val_loss: 0.8945 - val_accuracy: 0.6878\n",
      "Epoch 4/10\n",
      "375/375 [==============================] - 96s 256ms/step - loss: 0.7269 - accuracy: 0.7463 - val_loss: 0.7918 - val_accuracy: 0.7218\n",
      "Epoch 5/10\n",
      "375/375 [==============================] - 213s 568ms/step - loss: 0.5931 - accuracy: 0.7947 - val_loss: 0.7693 - val_accuracy: 0.7340\n",
      "Epoch 6/10\n",
      "375/375 [==============================] - 234s 624ms/step - loss: 0.4885 - accuracy: 0.8275 - val_loss: 0.7865 - val_accuracy: 0.7410\n",
      "Epoch 7/10\n",
      "375/375 [==============================] - 215s 574ms/step - loss: 0.3778 - accuracy: 0.8676 - val_loss: 0.8407 - val_accuracy: 0.7329\n",
      "Epoch 8/10\n",
      "375/375 [==============================] - 226s 604ms/step - loss: 0.2790 - accuracy: 0.9033 - val_loss: 0.9355 - val_accuracy: 0.7365\n",
      "Epoch 9/10\n",
      "375/375 [==============================] - 224s 596ms/step - loss: 0.1948 - accuracy: 0.9324 - val_loss: 1.0213 - val_accuracy: 0.7436\n",
      "Epoch 10/10\n",
      "375/375 [==============================] - 230s 613ms/step - loss: 0.1362 - accuracy: 0.9533 - val_loss: 1.1597 - val_accuracy: 0.7361\n"
     ]
    },
    {
     "data": {
      "text/plain": [
       "<keras.callbacks.History at 0x239c3088b80>"
      ]
     },
     "execution_count": 44,
     "metadata": {},
     "output_type": "execute_result"
    }
   ],
   "source": [
    "#modeli eğitme \n",
    "\n",
    "batch_size=128\n",
    "epochs=10\n",
    "model.fit(x_train,y_train,batch_size=batch_size,epochs=epochs,validation_data=(x_test,y_test))"
   ]
  },
  {
   "cell_type": "code",
   "execution_count": 45,
   "id": "d66ebcf7-a022-479d-a6c4-ee8aab20628d",
   "metadata": {},
   "outputs": [
    {
     "name": "stdout",
     "output_type": "stream",
     "text": [
      "375/375 [==============================] - 4s 10ms/step - loss: 1.1597 - accuracy: 0.7361\n",
      "test loss:  1.1596856117248535\n",
      "test accuracy:  0.7360833287239075\n"
     ]
    }
   ],
   "source": [
    "scores=model.evaluate(x_test,y_test,verbose=1)\n",
    "print(\"test loss: \",scores[0])\n",
    "print(\"test accuracy: \",scores[1])"
   ]
  },
  {
   "cell_type": "code",
   "execution_count": null,
   "id": "c44f5e8b-03b2-4dfa-9fed-d4b504aca97e",
   "metadata": {},
   "outputs": [],
   "source": []
  }
 ],
 "metadata": {
  "kernelspec": {
   "display_name": "Python 3 (ipykernel)",
   "language": "python",
   "name": "python3"
  },
  "language_info": {
   "codemirror_mode": {
    "name": "ipython",
    "version": 3
   },
   "file_extension": ".py",
   "mimetype": "text/x-python",
   "name": "python",
   "nbconvert_exporter": "python",
   "pygments_lexer": "ipython3",
   "version": "3.10.10"
  }
 },
 "nbformat": 4,
 "nbformat_minor": 5
}
