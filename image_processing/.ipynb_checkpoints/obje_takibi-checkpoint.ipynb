{
 "cells": [
  {
   "cell_type": "markdown",
   "id": "4d2f6ab3-ee41-4bc6-beca-08757e930650",
   "metadata": {},
   "source": [
    "OBJE TAKİBİ"
   ]
  },
  {
   "cell_type": "code",
   "execution_count": 1,
   "id": "161866e0-3423-45c5-9cc9-fe45f9fb9917",
   "metadata": {},
   "outputs": [],
   "source": [
    "import cv2\n",
    "import time\n",
    "import mediapipe as mp"
   ]
  },
  {
   "cell_type": "code",
   "execution_count": 2,
   "id": "e95c93d1-e62f-4195-a34d-368446be49a4",
   "metadata": {},
   "outputs": [],
   "source": [
    "capture= cv2.VideoCapture(0) #bilgisayarın kendi kamerasından açılacağı için 0 yaptık\n",
    "#başka bir kamera kullanacak olsaydık 1 veya 2 de yazabilirdik."
   ]
  },
  {
   "cell_type": "code",
   "execution_count": 3,
   "id": "7c42e032-038b-4f87-9423-e47372ed91a9",
   "metadata": {},
   "outputs": [
    {
     "name": "stdout",
     "output_type": "stream",
     "text": [
      "640\n",
      "480\n"
     ]
    }
   ],
   "source": [
    "width=int(capture.get(cv2.CAP_PROP_FRAME_WIDTH))\n",
    "height=int(capture.get(cv2.CAP_PROP_FRAME_HEIGHT))\n",
    "\n",
    "print(width)\n",
    "print(height)"
   ]
  },
  {
   "cell_type": "code",
   "execution_count": null,
   "id": "5a622cae-5f43-482e-9555-b17ff804e95b",
   "metadata": {},
   "outputs": [],
   "source": []
  }
 ],
 "metadata": {
  "kernelspec": {
   "display_name": "Python 3 (ipykernel)",
   "language": "python",
   "name": "python3"
  },
  "language_info": {
   "codemirror_mode": {
    "name": "ipython",
    "version": 3
   },
   "file_extension": ".py",
   "mimetype": "text/x-python",
   "name": "python",
   "nbconvert_exporter": "python",
   "pygments_lexer": "ipython3",
   "version": "3.10.10"
  }
 },
 "nbformat": 4,
 "nbformat_minor": 5
}
